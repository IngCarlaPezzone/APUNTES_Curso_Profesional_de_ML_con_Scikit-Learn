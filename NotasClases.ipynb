{
 "cells": [
  {
   "cell_type": "markdown",
   "id": "a77d27ea-aea0-43d2-bef5-a7c540edc268",
   "metadata": {},
   "source": [
    "<a target=\"_blank\" href=\"https://colab.research.google.com/github/IngCarlaPezzone/APUNTES_Curso_Profesional_de_ML_con_Scikit-Learn/blob/main/NotasClases.ipynb\">\n",
    "  <img src=\"https://colab.research.google.com/assets/colab-badge.svg\" alt=\"Open In Colab\"/>\n",
    "</a>"
   ]
  },
  {
   "cell_type": "markdown",
   "id": "035bdee0-c6ee-4db6-aefa-67b669d0c167",
   "metadata": {
    "tags": []
   },
   "source": [
    "# Apuntes del Curso Profesional de Machine Learning con Scikit-Learn de Platzi"
   ]
  },
  {
   "cell_type": "markdown",
   "id": "151eddf9-032a-4e9d-8f73-5adc029b69e0",
   "metadata": {},
   "source": [
    "En este curso se explica cómo se aplican con modelos de Machine Learning a lo largo del flujo de trabajo de Machine Learning: Representación - Evaluación - Optimización\n",
    "\n",
    "Usa distintos conjuntos de datos sencillos para explorar los datos, aplicar modelos simples para luego empezar a aplicar técnicas avanzadas es selección de features, regularización, métodos de ensamble, validación, optimización y mas."
   ]
  },
  {
   "cell_type": "markdown",
   "id": "e4bd60b7-1b8f-4e79-92ca-7f251995ee8d",
   "metadata": {},
   "source": [
    "## Configuraciones previas"
   ]
  },
  {
   "cell_type": "code",
   "execution_count": 4,
   "id": "f2cd495c-3123-46e2-9502-5496281088ef",
   "metadata": {},
   "outputs": [
    {
     "name": "stdout",
     "output_type": "stream",
     "text": [
      "Python 3.10.4\n"
     ]
    }
   ],
   "source": [
    "#Conocer la versión de python\n",
    "!python --version"
   ]
  },
  {
   "cell_type": "code",
   "execution_count": 8,
   "id": "36cbc0b7-dc2b-4af8-978d-ec791506b518",
   "metadata": {
    "collapsed": true,
    "jupyter": {
     "outputs_hidden": true
    },
    "tags": []
   },
   "outputs": [
    {
     "name": "stdout",
     "output_type": "stream",
     "text": [
      "Collecting package metadata (current_repodata.json): ...working... done\n",
      "Note: you may need to restart the kernel to use updated packages.\n"
     ]
    },
    {
     "name": "stderr",
     "output_type": "stream",
     "text": [
      "\n"
     ]
    },
    {
     "name": "stdout",
     "output_type": "stream",
     "text": [
      "\n",
      "Solving environment: ...working... done\n",
      "\n",
      "## Package Plan ##\n",
      "\n",
      "  environment location: C:\\Users\\Marco\\.conda\\envs\\mlenv\n",
      "\n",
      "  added / updated specs:\n",
      "    - scikit-learn\n",
      "\n",
      "\n",
      "The following packages will be downloaded:\n",
      "\n",
      "    package                    |            build\n",
      "    ---------------------------|-----------------\n",
      "    ca-certificates-2023.01.10 |       haa95532_0         158 KB  anaconda\n",
      "    certifi-2022.12.7          |  py310haa95532_0         153 KB  anaconda\n",
      "    joblib-1.1.1               |  py310haa95532_0         414 KB  anaconda\n",
      "    openssl-1.1.1s             |       h2bbff1b_0         5.8 MB  anaconda\n",
      "    scikit-learn-1.2.0         |  py310hd77b12b_1         7.7 MB  anaconda\n",
      "    threadpoolctl-2.2.0        |     pyh0d69192_0          16 KB  anaconda\n",
      "    ------------------------------------------------------------\n",
      "                                           Total:        14.2 MB\n",
      "\n",
      "The following NEW packages will be INSTALLED:\n",
      "\n",
      "  joblib             anaconda/win-64::joblib-1.1.1-py310haa95532_0 None\n",
      "  scikit-learn       anaconda/win-64::scikit-learn-1.2.0-py310hd77b12b_1 None\n",
      "  threadpoolctl      anaconda/noarch::threadpoolctl-2.2.0-pyh0d69192_0 None\n",
      "\n",
      "The following packages will be UPDATED:\n",
      "\n",
      "  ca-certificates    conda-forge::ca-certificates-2022.6.1~ --> anaconda::ca-certificates-2023.01.10-haa95532_0 None\n",
      "  certifi            conda-forge/noarch::certifi-2022.6.15~ --> anaconda/win-64::certifi-2022.12.7-py310haa95532_0 None\n",
      "  openssl            conda-forge::openssl-1.1.1q-h8ffe710_0 --> anaconda::openssl-1.1.1s-h2bbff1b_0 None\n",
      "\n",
      "\n",
      "\n",
      "Downloading and Extracting Packages\n",
      "\n",
      "joblib-1.1.1         | 414 KB    |            |   0% \n",
      "joblib-1.1.1         | 414 KB    | 3          |   4% \n",
      "joblib-1.1.1         | 414 KB    | ###8       |  39% \n",
      "joblib-1.1.1         | 414 KB    | #######7   |  77% \n",
      "joblib-1.1.1         | 414 KB    | ########## | 100% \n",
      "\n",
      "scikit-learn-1.2.0   | 7.7 MB    |            |   0% \n",
      "scikit-learn-1.2.0   | 7.7 MB    |            |   0% \n",
      "scikit-learn-1.2.0   | 7.7 MB    | 1          |   2% \n",
      "scikit-learn-1.2.0   | 7.7 MB    | 3          |   3% \n",
      "scikit-learn-1.2.0   | 7.7 MB    | 6          |   6% \n",
      "scikit-learn-1.2.0   | 7.7 MB    | 7          |   8% \n",
      "scikit-learn-1.2.0   | 7.7 MB    | #          |  10% \n",
      "scikit-learn-1.2.0   | 7.7 MB    | #3         |  13% \n",
      "scikit-learn-1.2.0   | 7.7 MB    | #5         |  15% \n",
      "scikit-learn-1.2.0   | 7.7 MB    | #7         |  17% \n",
      "scikit-learn-1.2.0   | 7.7 MB    | #9         |  19% \n",
      "scikit-learn-1.2.0   | 7.7 MB    | ##1        |  21% \n",
      "scikit-learn-1.2.0   | 7.7 MB    | ##2        |  23% \n",
      "scikit-learn-1.2.0   | 7.7 MB    | ##4        |  25% \n",
      "scikit-learn-1.2.0   | 7.7 MB    | ##6        |  26% \n",
      "scikit-learn-1.2.0   | 7.7 MB    | ##7        |  28% \n",
      "scikit-learn-1.2.0   | 7.7 MB    | ###        |  30% \n",
      "scikit-learn-1.2.0   | 7.7 MB    | ###2       |  33% \n",
      "scikit-learn-1.2.0   | 7.7 MB    | ###4       |  35% \n",
      "scikit-learn-1.2.0   | 7.7 MB    | ###6       |  36% \n",
      "scikit-learn-1.2.0   | 7.7 MB    | ###8       |  38% \n",
      "scikit-learn-1.2.0   | 7.7 MB    | ###9       |  40% \n",
      "scikit-learn-1.2.0   | 7.7 MB    | ####1      |  41% \n",
      "scikit-learn-1.2.0   | 7.7 MB    | ####3      |  43% \n",
      "scikit-learn-1.2.0   | 7.7 MB    | ####4      |  45% \n",
      "scikit-learn-1.2.0   | 7.7 MB    | ####6      |  46% \n",
      "scikit-learn-1.2.0   | 7.7 MB    | ####7      |  48% \n",
      "scikit-learn-1.2.0   | 7.7 MB    | ####9      |  50% \n",
      "scikit-learn-1.2.0   | 7.7 MB    | #####1     |  51% \n",
      "scikit-learn-1.2.0   | 7.7 MB    | #####2     |  53% \n",
      "scikit-learn-1.2.0   | 7.7 MB    | #####4     |  54% \n",
      "scikit-learn-1.2.0   | 7.7 MB    | #####6     |  56% \n",
      "scikit-learn-1.2.0   | 7.7 MB    | #####7     |  58% \n",
      "scikit-learn-1.2.0   | 7.7 MB    | #####9     |  59% \n",
      "scikit-learn-1.2.0   | 7.7 MB    | ######     |  61% \n",
      "scikit-learn-1.2.0   | 7.7 MB    | ######3    |  63% \n",
      "scikit-learn-1.2.0   | 7.7 MB    | ######5    |  65% \n",
      "scikit-learn-1.2.0   | 7.7 MB    | ######7    |  67% \n",
      "scikit-learn-1.2.0   | 7.7 MB    | ######9    |  69% \n",
      "scikit-learn-1.2.0   | 7.7 MB    | #######1   |  71% \n",
      "scikit-learn-1.2.0   | 7.7 MB    | #######2   |  73% \n",
      "scikit-learn-1.2.0   | 7.7 MB    | #######4   |  75% \n",
      "scikit-learn-1.2.0   | 7.7 MB    | #######7   |  77% \n",
      "scikit-learn-1.2.0   | 7.7 MB    | #######8   |  79% \n",
      "scikit-learn-1.2.0   | 7.7 MB    | ########   |  81% \n",
      "scikit-learn-1.2.0   | 7.7 MB    | ########2  |  83% \n",
      "scikit-learn-1.2.0   | 7.7 MB    | ########4  |  84% \n",
      "scikit-learn-1.2.0   | 7.7 MB    | ########6  |  86% \n",
      "scikit-learn-1.2.0   | 7.7 MB    | ########8  |  88% \n",
      "scikit-learn-1.2.0   | 7.7 MB    | ########9  |  90% \n",
      "scikit-learn-1.2.0   | 7.7 MB    | #########1 |  92% \n",
      "scikit-learn-1.2.0   | 7.7 MB    | #########3 |  93% \n",
      "scikit-learn-1.2.0   | 7.7 MB    | #########4 |  95% \n",
      "scikit-learn-1.2.0   | 7.7 MB    | #########6 |  97% \n",
      "scikit-learn-1.2.0   | 7.7 MB    | #########8 |  98% \n",
      "scikit-learn-1.2.0   | 7.7 MB    | #########9 | 100% \n",
      "scikit-learn-1.2.0   | 7.7 MB    | ########## | 100% \n",
      "\n",
      "threadpoolctl-2.2.0  | 16 KB     |            |   0% \n",
      "threadpoolctl-2.2.0  | 16 KB     | ########## | 100% \n",
      "threadpoolctl-2.2.0  | 16 KB     | ########## | 100% \n",
      "\n",
      "ca-certificates-2023 | 158 KB    |            |   0% \n",
      "ca-certificates-2023 | 158 KB    | #          |  10% \n",
      "ca-certificates-2023 | 158 KB    | ########## | 100% \n",
      "ca-certificates-2023 | 158 KB    | ########## | 100% \n",
      "\n",
      "openssl-1.1.1s       | 5.8 MB    |            |   0% \n",
      "openssl-1.1.1s       | 5.8 MB    |            |   0% \n",
      "openssl-1.1.1s       | 5.8 MB    | 2          |   3% \n",
      "openssl-1.1.1s       | 5.8 MB    | 5          |   5% \n",
      "openssl-1.1.1s       | 5.8 MB    | 7          |   8% \n",
      "openssl-1.1.1s       | 5.8 MB    | 9          |   9% \n",
      "openssl-1.1.1s       | 5.8 MB    | #2         |  12% \n",
      "openssl-1.1.1s       | 5.8 MB    | #4         |  14% \n",
      "openssl-1.1.1s       | 5.8 MB    | #6         |  17% \n",
      "openssl-1.1.1s       | 5.8 MB    | #8         |  18% \n",
      "openssl-1.1.1s       | 5.8 MB    | ##3        |  23% \n",
      "openssl-1.1.1s       | 5.8 MB    | ##6        |  27% \n",
      "openssl-1.1.1s       | 5.8 MB    | ##9        |  29% \n",
      "openssl-1.1.1s       | 5.8 MB    | ###1       |  32% \n",
      "openssl-1.1.1s       | 5.8 MB    | ###3       |  34% \n",
      "openssl-1.1.1s       | 5.8 MB    | ###6       |  36% \n",
      "openssl-1.1.1s       | 5.8 MB    | ###7       |  38% \n",
      "openssl-1.1.1s       | 5.8 MB    | ###9       |  40% \n",
      "openssl-1.1.1s       | 5.8 MB    | ####1      |  42% \n",
      "openssl-1.1.1s       | 5.8 MB    | ####3      |  44% \n",
      "openssl-1.1.1s       | 5.8 MB    | ####5      |  46% \n",
      "openssl-1.1.1s       | 5.8 MB    | ####7      |  47% \n",
      "openssl-1.1.1s       | 5.8 MB    | ####9      |  49% \n",
      "openssl-1.1.1s       | 5.8 MB    | #####1     |  51% \n",
      "openssl-1.1.1s       | 5.8 MB    | #####3     |  53% \n",
      "openssl-1.1.1s       | 5.8 MB    | #####5     |  55% \n",
      "openssl-1.1.1s       | 5.8 MB    | #####7     |  58% \n",
      "openssl-1.1.1s       | 5.8 MB    | ######     |  61% \n",
      "openssl-1.1.1s       | 5.8 MB    | ######3    |  64% \n",
      "openssl-1.1.1s       | 5.8 MB    | ######6    |  66% \n",
      "openssl-1.1.1s       | 5.8 MB    | ######8    |  68% \n",
      "openssl-1.1.1s       | 5.8 MB    | #######3   |  73% \n",
      "openssl-1.1.1s       | 5.8 MB    | #######6   |  76% \n",
      "openssl-1.1.1s       | 5.8 MB    | #######9   |  79% \n",
      "openssl-1.1.1s       | 5.8 MB    | ########1  |  82% \n",
      "openssl-1.1.1s       | 5.8 MB    | ########4  |  84% \n",
      "openssl-1.1.1s       | 5.8 MB    | ########6  |  86% \n",
      "openssl-1.1.1s       | 5.8 MB    | ########8  |  88% \n",
      "openssl-1.1.1s       | 5.8 MB    | #########  |  91% \n",
      "openssl-1.1.1s       | 5.8 MB    | #########2 |  93% \n",
      "openssl-1.1.1s       | 5.8 MB    | #########4 |  95% \n",
      "openssl-1.1.1s       | 5.8 MB    | #########7 |  97% \n",
      "openssl-1.1.1s       | 5.8 MB    | #########9 |  99% \n",
      "openssl-1.1.1s       | 5.8 MB    | ########## | 100% \n",
      "\n",
      "certifi-2022.12.7    | 153 KB    |            |   0% \n",
      "certifi-2022.12.7    | 153 KB    | #          |  10% \n",
      "certifi-2022.12.7    | 153 KB    | ########3  |  84% \n",
      "certifi-2022.12.7    | 153 KB    | ########## | 100% \n",
      "Preparing transaction: ...working... done\n",
      "Verifying transaction: ...working... done\n",
      "Executing transaction: ...working... \n",
      "\n",
      "    Windows 64-bit packages of scikit-learn can be accelerated using scikit-learn-intelex.\n",
      "    More details are available here: https://intel.github.io/scikit-learn-intelex\n",
      "\n",
      "    For example:\n",
      "\n",
      "        $ conda install scikit-learn-intelex\n",
      "        $ python -m sklearnex my_application.py\n",
      "\n",
      "\n",
      "done\n",
      "Retrieving notices: ...working... done\n"
     ]
    },
    {
     "name": "stderr",
     "output_type": "stream",
     "text": [
      "\n",
      "==> WARNING: A newer version of conda exists. <==\n",
      "  current version: 22.9.0\n",
      "  latest version: 23.3.1\n",
      "\n",
      "Please update conda by running\n",
      "\n",
      "    $ conda update -n base -c defaults conda\n",
      "\n",
      "\n"
     ]
    }
   ],
   "source": [
    "conda install -c anaconda scikit-learn"
   ]
  },
  {
   "cell_type": "code",
   "execution_count": 92,
   "id": "65ce9317-f77d-4735-bda6-4e8124c4e57d",
   "metadata": {},
   "outputs": [],
   "source": [
    "# Importamos las bibliotecas generales\n",
    " \n",
    "import pandas as pd\n",
    "import sklearn\n",
    "import matplotlib.pyplot as plt "
   ]
  },
  {
   "cell_type": "markdown",
   "id": "fdf6d7e2-c6c8-4a88-b0d8-205b578599d2",
   "metadata": {},
   "source": [
    "Vamos a usar tres conjuntos de datos:\n",
    "* heart.csv\n",
    "* felicidad.csv\n",
    "* candy.csv"
   ]
  },
  {
   "cell_type": "markdown",
   "id": "1a27b88b-a189-406e-883d-01ea100f3831",
   "metadata": {},
   "source": [
    "## Introducción a PCA\n",
    "\n",
    "PCA = Principal Component Analysis\n",
    "\n",
    "Es una de las técnicas que podemos usar para reducir la dimensionalidad de nuestros features y elegir features que nos proporcionen la información mas importante.\n",
    "\n",
    "El principio de PCA es combinar distintos features de nuestro conjunto de datos en otros features artificiales pero que mantengan la misma información, por ejemplo, manteniendo la varianza entre los features."
   ]
  },
  {
   "cell_type": "code",
   "execution_count": null,
   "id": "ad94df35-3714-422c-921d-dbee31cda139",
   "metadata": {},
   "outputs": [],
   "source": [
    "# Importamos los módulos específicos\n",
    " \n",
    "from sklearn.decomposition import PCA\n",
    "from sklearn.decomposition import IncrementalPCA\n",
    " \n",
    "from sklearn.linear_model import LogisticRegression\n",
    " \n",
    "from sklearn.preprocessing import StandardScaler\n",
    "from sklearn.model_selection import train_test_split"
   ]
  },
  {
   "cell_type": "markdown",
   "id": "f8d3f43a-31a3-4cf3-9cbc-0fe5b36ef4f2",
   "metadata": {},
   "source": [
    "Lo que buscamos es una clasificación de pacientes binaria entre si un paciente tiene o no una enfermedad cardíaca tenindo en cuenta las caracteristicas del paciente, es decir, maximizando la información de los features."
   ]
  },
  {
   "cell_type": "code",
   "execution_count": 12,
   "id": "ac8a9f0f-ae58-42cb-9916-52b1d727abab",
   "metadata": {
    "collapsed": true,
    "jupyter": {
     "outputs_hidden": true
    },
    "tags": []
   },
   "outputs": [
    {
     "data": {
      "text/html": [
       "<div>\n",
       "<style scoped>\n",
       "    .dataframe tbody tr th:only-of-type {\n",
       "        vertical-align: middle;\n",
       "    }\n",
       "\n",
       "    .dataframe tbody tr th {\n",
       "        vertical-align: top;\n",
       "    }\n",
       "\n",
       "    .dataframe thead th {\n",
       "        text-align: right;\n",
       "    }\n",
       "</style>\n",
       "<table border=\"1\" class=\"dataframe\">\n",
       "  <thead>\n",
       "    <tr style=\"text-align: right;\">\n",
       "      <th></th>\n",
       "      <th>age</th>\n",
       "      <th>sex</th>\n",
       "      <th>cp</th>\n",
       "      <th>trestbps</th>\n",
       "      <th>chol</th>\n",
       "      <th>fbs</th>\n",
       "      <th>restecg</th>\n",
       "      <th>thalach</th>\n",
       "      <th>exang</th>\n",
       "      <th>oldpeak</th>\n",
       "      <th>slope</th>\n",
       "      <th>ca</th>\n",
       "      <th>thal</th>\n",
       "      <th>target</th>\n",
       "    </tr>\n",
       "  </thead>\n",
       "  <tbody>\n",
       "    <tr>\n",
       "      <th>0</th>\n",
       "      <td>52</td>\n",
       "      <td>1</td>\n",
       "      <td>0</td>\n",
       "      <td>125</td>\n",
       "      <td>212</td>\n",
       "      <td>0</td>\n",
       "      <td>1</td>\n",
       "      <td>168</td>\n",
       "      <td>0</td>\n",
       "      <td>1.0</td>\n",
       "      <td>2</td>\n",
       "      <td>2</td>\n",
       "      <td>3</td>\n",
       "      <td>0</td>\n",
       "    </tr>\n",
       "    <tr>\n",
       "      <th>1</th>\n",
       "      <td>53</td>\n",
       "      <td>1</td>\n",
       "      <td>0</td>\n",
       "      <td>140</td>\n",
       "      <td>203</td>\n",
       "      <td>1</td>\n",
       "      <td>0</td>\n",
       "      <td>155</td>\n",
       "      <td>1</td>\n",
       "      <td>3.1</td>\n",
       "      <td>0</td>\n",
       "      <td>0</td>\n",
       "      <td>3</td>\n",
       "      <td>0</td>\n",
       "    </tr>\n",
       "    <tr>\n",
       "      <th>2</th>\n",
       "      <td>70</td>\n",
       "      <td>1</td>\n",
       "      <td>0</td>\n",
       "      <td>145</td>\n",
       "      <td>174</td>\n",
       "      <td>0</td>\n",
       "      <td>1</td>\n",
       "      <td>125</td>\n",
       "      <td>1</td>\n",
       "      <td>2.6</td>\n",
       "      <td>0</td>\n",
       "      <td>0</td>\n",
       "      <td>3</td>\n",
       "      <td>0</td>\n",
       "    </tr>\n",
       "    <tr>\n",
       "      <th>3</th>\n",
       "      <td>61</td>\n",
       "      <td>1</td>\n",
       "      <td>0</td>\n",
       "      <td>148</td>\n",
       "      <td>203</td>\n",
       "      <td>0</td>\n",
       "      <td>1</td>\n",
       "      <td>161</td>\n",
       "      <td>0</td>\n",
       "      <td>0.0</td>\n",
       "      <td>2</td>\n",
       "      <td>1</td>\n",
       "      <td>3</td>\n",
       "      <td>0</td>\n",
       "    </tr>\n",
       "    <tr>\n",
       "      <th>4</th>\n",
       "      <td>62</td>\n",
       "      <td>0</td>\n",
       "      <td>0</td>\n",
       "      <td>138</td>\n",
       "      <td>294</td>\n",
       "      <td>1</td>\n",
       "      <td>1</td>\n",
       "      <td>106</td>\n",
       "      <td>0</td>\n",
       "      <td>1.9</td>\n",
       "      <td>1</td>\n",
       "      <td>3</td>\n",
       "      <td>2</td>\n",
       "      <td>0</td>\n",
       "    </tr>\n",
       "  </tbody>\n",
       "</table>\n",
       "</div>"
      ],
      "text/plain": [
       "   age  sex  cp  trestbps  chol  fbs  restecg  thalach  exang  oldpeak  slope  \\\n",
       "0   52    1   0       125   212    0        1      168      0      1.0      2   \n",
       "1   53    1   0       140   203    1        0      155      1      3.1      0   \n",
       "2   70    1   0       145   174    0        1      125      1      2.6      0   \n",
       "3   61    1   0       148   203    0        1      161      0      0.0      2   \n",
       "4   62    0   0       138   294    1        1      106      0      1.9      1   \n",
       "\n",
       "   ca  thal  target  \n",
       "0   2     3       0  \n",
       "1   0     3       0  \n",
       "2   0     3       0  \n",
       "3   1     3       0  \n",
       "4   3     2       0  "
      ]
     },
     "execution_count": 12,
     "metadata": {},
     "output_type": "execute_result"
    }
   ],
   "source": [
    "# Cargamos los datos del dataframe de pandas\n",
    "dt_heart = pd.read_csv('datasets\\heart.csv')\n",
    "\n",
    "# Imprimimos un encabezado con los primeros 5 registros\n",
    "dt_heart.head()"
   ]
  },
  {
   "cell_type": "code",
   "execution_count": 20,
   "id": "d3b27cb0-e9a6-4e89-a507-ce3fba19b331",
   "metadata": {
    "collapsed": true,
    "jupyter": {
     "outputs_hidden": true
    },
    "tags": []
   },
   "outputs": [
    {
     "data": {
      "text/html": [
       "<div>\n",
       "<style scoped>\n",
       "    .dataframe tbody tr th:only-of-type {\n",
       "        vertical-align: middle;\n",
       "    }\n",
       "\n",
       "    .dataframe tbody tr th {\n",
       "        vertical-align: top;\n",
       "    }\n",
       "\n",
       "    .dataframe thead th {\n",
       "        text-align: right;\n",
       "    }\n",
       "</style>\n",
       "<table border=\"1\" class=\"dataframe\">\n",
       "  <thead>\n",
       "    <tr style=\"text-align: right;\">\n",
       "      <th></th>\n",
       "      <th>age</th>\n",
       "      <th>sex</th>\n",
       "      <th>cp</th>\n",
       "      <th>trestbps</th>\n",
       "      <th>chol</th>\n",
       "      <th>fbs</th>\n",
       "      <th>restecg</th>\n",
       "      <th>thalach</th>\n",
       "      <th>exang</th>\n",
       "      <th>oldpeak</th>\n",
       "      <th>slope</th>\n",
       "      <th>ca</th>\n",
       "      <th>thal</th>\n",
       "    </tr>\n",
       "  </thead>\n",
       "  <tbody>\n",
       "    <tr>\n",
       "      <th>0</th>\n",
       "      <td>52</td>\n",
       "      <td>1</td>\n",
       "      <td>0</td>\n",
       "      <td>125</td>\n",
       "      <td>212</td>\n",
       "      <td>0</td>\n",
       "      <td>1</td>\n",
       "      <td>168</td>\n",
       "      <td>0</td>\n",
       "      <td>1.0</td>\n",
       "      <td>2</td>\n",
       "      <td>2</td>\n",
       "      <td>3</td>\n",
       "    </tr>\n",
       "    <tr>\n",
       "      <th>1</th>\n",
       "      <td>53</td>\n",
       "      <td>1</td>\n",
       "      <td>0</td>\n",
       "      <td>140</td>\n",
       "      <td>203</td>\n",
       "      <td>1</td>\n",
       "      <td>0</td>\n",
       "      <td>155</td>\n",
       "      <td>1</td>\n",
       "      <td>3.1</td>\n",
       "      <td>0</td>\n",
       "      <td>0</td>\n",
       "      <td>3</td>\n",
       "    </tr>\n",
       "    <tr>\n",
       "      <th>2</th>\n",
       "      <td>70</td>\n",
       "      <td>1</td>\n",
       "      <td>0</td>\n",
       "      <td>145</td>\n",
       "      <td>174</td>\n",
       "      <td>0</td>\n",
       "      <td>1</td>\n",
       "      <td>125</td>\n",
       "      <td>1</td>\n",
       "      <td>2.6</td>\n",
       "      <td>0</td>\n",
       "      <td>0</td>\n",
       "      <td>3</td>\n",
       "    </tr>\n",
       "    <tr>\n",
       "      <th>3</th>\n",
       "      <td>61</td>\n",
       "      <td>1</td>\n",
       "      <td>0</td>\n",
       "      <td>148</td>\n",
       "      <td>203</td>\n",
       "      <td>0</td>\n",
       "      <td>1</td>\n",
       "      <td>161</td>\n",
       "      <td>0</td>\n",
       "      <td>0.0</td>\n",
       "      <td>2</td>\n",
       "      <td>1</td>\n",
       "      <td>3</td>\n",
       "    </tr>\n",
       "    <tr>\n",
       "      <th>4</th>\n",
       "      <td>62</td>\n",
       "      <td>0</td>\n",
       "      <td>0</td>\n",
       "      <td>138</td>\n",
       "      <td>294</td>\n",
       "      <td>1</td>\n",
       "      <td>1</td>\n",
       "      <td>106</td>\n",
       "      <td>0</td>\n",
       "      <td>1.9</td>\n",
       "      <td>1</td>\n",
       "      <td>3</td>\n",
       "      <td>2</td>\n",
       "    </tr>\n",
       "  </tbody>\n",
       "</table>\n",
       "</div>"
      ],
      "text/plain": [
       "   age  sex  cp  trestbps  chol  fbs  restecg  thalach  exang  oldpeak  slope  \\\n",
       "0   52    1   0       125   212    0        1      168      0      1.0      2   \n",
       "1   53    1   0       140   203    1        0      155      1      3.1      0   \n",
       "2   70    1   0       145   174    0        1      125      1      2.6      0   \n",
       "3   61    1   0       148   203    0        1      161      0      0.0      2   \n",
       "4   62    0   0       138   294    1        1      106      0      1.9      1   \n",
       "\n",
       "   ca  thal  \n",
       "0   2     3  \n",
       "1   0     3  \n",
       "2   0     3  \n",
       "3   1     3  \n",
       "4   3     2  "
      ]
     },
     "execution_count": 20,
     "metadata": {},
     "output_type": "execute_result"
    }
   ],
   "source": [
    "# Guardamos nuestro dataset sin la columna de target\n",
    "dt_features = dt_heart.drop(['target'], axis=1)\n",
    "dt_features.head()"
   ]
  },
  {
   "cell_type": "code",
   "execution_count": 14,
   "id": "548ca218-020e-4cba-985f-151d930917ba",
   "metadata": {
    "tags": []
   },
   "outputs": [
    {
     "data": {
      "text/plain": [
       "0    0\n",
       "1    0\n",
       "2    0\n",
       "3    0\n",
       "4    0\n",
       "Name: target, dtype: int64"
      ]
     },
     "execution_count": 14,
     "metadata": {},
     "output_type": "execute_result"
    }
   ],
   "source": [
    "# Nuestro target será solo la columna de target\n",
    "dt_target = dt_heart['target']\n",
    "dt_target.head()"
   ]
  },
  {
   "cell_type": "code",
   "execution_count": 16,
   "id": "c337a48f-dba2-415c-86a4-c861a06fabd1",
   "metadata": {},
   "outputs": [],
   "source": [
    "# Normalizamos los datos\n",
    "## fit_transform lo que hace es cargar los datos, ajustar el modelo y\n",
    "## aplicar la transformación de una vez sobre el mismo conjunto de datos\n",
    "## Esto sobreescribe la variable dt_featur con los valores ya transformados\n",
    "## a los target no necesitamos hacerle esto\n",
    "dt_features = StandardScaler().fit_transform(dt_features)"
   ]
  },
  {
   "cell_type": "code",
   "execution_count": 18,
   "id": "676cb280-f3c8-442a-be10-4d1b2d8d73f1",
   "metadata": {},
   "outputs": [],
   "source": [
    "# Partimos el conjunto de entrenamiento. Para añadir replicabilidad usamos el random state\n",
    "X_train, X_test, y_train, y_test = train_test_split(dt_features, dt_target, test_size=0.3, random_state=42)"
   ]
  },
  {
   "cell_type": "code",
   "execution_count": 22,
   "id": "a91ad362-cbf7-4fb5-ac8a-f8e23ba28c15",
   "metadata": {},
   "outputs": [
    {
     "name": "stdout",
     "output_type": "stream",
     "text": [
      "(717, 13)\n",
      "(717,)\n"
     ]
    }
   ],
   "source": [
    "# Consultamos la forma de los x e y\n",
    "print(X_train.shape)\n",
    "print(y_train.shape)"
   ]
  },
  {
   "cell_type": "code",
   "execution_count": 23,
   "id": "0ef58eb9-7718-411a-8b7c-742d0cfec96f",
   "metadata": {},
   "outputs": [],
   "source": [
    "# Llamamos y configuramos nuestro algoritmo pca\n",
    "## EL número de componentes es opcional, ya que por defecto si no le pasamos el \n",
    "## número de componentes lo asignará de esta forma:\n",
    "## a: n_components = min(n_muestras, n_features)\n",
    "pca = PCA(n_components=3)"
   ]
  },
  {
   "cell_type": "code",
   "execution_count": 24,
   "id": "f87d6252-39b3-43b3-8cee-9e383572fad8",
   "metadata": {},
   "outputs": [
    {
     "data": {
      "text/html": [
       "<style>#sk-container-id-1 {color: black;background-color: white;}#sk-container-id-1 pre{padding: 0;}#sk-container-id-1 div.sk-toggleable {background-color: white;}#sk-container-id-1 label.sk-toggleable__label {cursor: pointer;display: block;width: 100%;margin-bottom: 0;padding: 0.3em;box-sizing: border-box;text-align: center;}#sk-container-id-1 label.sk-toggleable__label-arrow:before {content: \"▸\";float: left;margin-right: 0.25em;color: #696969;}#sk-container-id-1 label.sk-toggleable__label-arrow:hover:before {color: black;}#sk-container-id-1 div.sk-estimator:hover label.sk-toggleable__label-arrow:before {color: black;}#sk-container-id-1 div.sk-toggleable__content {max-height: 0;max-width: 0;overflow: hidden;text-align: left;background-color: #f0f8ff;}#sk-container-id-1 div.sk-toggleable__content pre {margin: 0.2em;color: black;border-radius: 0.25em;background-color: #f0f8ff;}#sk-container-id-1 input.sk-toggleable__control:checked~div.sk-toggleable__content {max-height: 200px;max-width: 100%;overflow: auto;}#sk-container-id-1 input.sk-toggleable__control:checked~label.sk-toggleable__label-arrow:before {content: \"▾\";}#sk-container-id-1 div.sk-estimator input.sk-toggleable__control:checked~label.sk-toggleable__label {background-color: #d4ebff;}#sk-container-id-1 div.sk-label input.sk-toggleable__control:checked~label.sk-toggleable__label {background-color: #d4ebff;}#sk-container-id-1 input.sk-hidden--visually {border: 0;clip: rect(1px 1px 1px 1px);clip: rect(1px, 1px, 1px, 1px);height: 1px;margin: -1px;overflow: hidden;padding: 0;position: absolute;width: 1px;}#sk-container-id-1 div.sk-estimator {font-family: monospace;background-color: #f0f8ff;border: 1px dotted black;border-radius: 0.25em;box-sizing: border-box;margin-bottom: 0.5em;}#sk-container-id-1 div.sk-estimator:hover {background-color: #d4ebff;}#sk-container-id-1 div.sk-parallel-item::after {content: \"\";width: 100%;border-bottom: 1px solid gray;flex-grow: 1;}#sk-container-id-1 div.sk-label:hover label.sk-toggleable__label {background-color: #d4ebff;}#sk-container-id-1 div.sk-serial::before {content: \"\";position: absolute;border-left: 1px solid gray;box-sizing: border-box;top: 0;bottom: 0;left: 50%;z-index: 0;}#sk-container-id-1 div.sk-serial {display: flex;flex-direction: column;align-items: center;background-color: white;padding-right: 0.2em;padding-left: 0.2em;position: relative;}#sk-container-id-1 div.sk-item {position: relative;z-index: 1;}#sk-container-id-1 div.sk-parallel {display: flex;align-items: stretch;justify-content: center;background-color: white;position: relative;}#sk-container-id-1 div.sk-item::before, #sk-container-id-1 div.sk-parallel-item::before {content: \"\";position: absolute;border-left: 1px solid gray;box-sizing: border-box;top: 0;bottom: 0;left: 50%;z-index: -1;}#sk-container-id-1 div.sk-parallel-item {display: flex;flex-direction: column;z-index: 1;position: relative;background-color: white;}#sk-container-id-1 div.sk-parallel-item:first-child::after {align-self: flex-end;width: 50%;}#sk-container-id-1 div.sk-parallel-item:last-child::after {align-self: flex-start;width: 50%;}#sk-container-id-1 div.sk-parallel-item:only-child::after {width: 0;}#sk-container-id-1 div.sk-dashed-wrapped {border: 1px dashed gray;margin: 0 0.4em 0.5em 0.4em;box-sizing: border-box;padding-bottom: 0.4em;background-color: white;}#sk-container-id-1 div.sk-label label {font-family: monospace;font-weight: bold;display: inline-block;line-height: 1.2em;}#sk-container-id-1 div.sk-label-container {text-align: center;}#sk-container-id-1 div.sk-container {/* jupyter's `normalize.less` sets `[hidden] { display: none; }` but bootstrap.min.css set `[hidden] { display: none !important; }` so we also need the `!important` here to be able to override the default hidden behavior on the sphinx rendered scikit-learn.org. See: https://github.com/scikit-learn/scikit-learn/issues/21755 */display: inline-block !important;position: relative;}#sk-container-id-1 div.sk-text-repr-fallback {display: none;}</style><div id=\"sk-container-id-1\" class=\"sk-top-container\"><div class=\"sk-text-repr-fallback\"><pre>PCA(n_components=3)</pre><b>In a Jupyter environment, please rerun this cell to show the HTML representation or trust the notebook. <br />On GitHub, the HTML representation is unable to render, please try loading this page with nbviewer.org.</b></div><div class=\"sk-container\" hidden><div class=\"sk-item\"><div class=\"sk-estimator sk-toggleable\"><input class=\"sk-toggleable__control sk-hidden--visually\" id=\"sk-estimator-id-1\" type=\"checkbox\" checked><label for=\"sk-estimator-id-1\" class=\"sk-toggleable__label sk-toggleable__label-arrow\">PCA</label><div class=\"sk-toggleable__content\"><pre>PCA(n_components=3)</pre></div></div></div></div></div>"
      ],
      "text/plain": [
       "PCA(n_components=3)"
      ]
     },
     "execution_count": 24,
     "metadata": {},
     "output_type": "execute_result"
    }
   ],
   "source": [
    "# Ajustamos nuestro modelo con los datos de entrenamiento\n",
    "pca.fit(X_train)"
   ]
  },
  {
   "cell_type": "code",
   "execution_count": 25,
   "id": "528c1bd2-02e3-472d-80b9-584e01a6aee4",
   "metadata": {},
   "outputs": [
    {
     "data": {
      "text/html": [
       "<style>#sk-container-id-2 {color: black;background-color: white;}#sk-container-id-2 pre{padding: 0;}#sk-container-id-2 div.sk-toggleable {background-color: white;}#sk-container-id-2 label.sk-toggleable__label {cursor: pointer;display: block;width: 100%;margin-bottom: 0;padding: 0.3em;box-sizing: border-box;text-align: center;}#sk-container-id-2 label.sk-toggleable__label-arrow:before {content: \"▸\";float: left;margin-right: 0.25em;color: #696969;}#sk-container-id-2 label.sk-toggleable__label-arrow:hover:before {color: black;}#sk-container-id-2 div.sk-estimator:hover label.sk-toggleable__label-arrow:before {color: black;}#sk-container-id-2 div.sk-toggleable__content {max-height: 0;max-width: 0;overflow: hidden;text-align: left;background-color: #f0f8ff;}#sk-container-id-2 div.sk-toggleable__content pre {margin: 0.2em;color: black;border-radius: 0.25em;background-color: #f0f8ff;}#sk-container-id-2 input.sk-toggleable__control:checked~div.sk-toggleable__content {max-height: 200px;max-width: 100%;overflow: auto;}#sk-container-id-2 input.sk-toggleable__control:checked~label.sk-toggleable__label-arrow:before {content: \"▾\";}#sk-container-id-2 div.sk-estimator input.sk-toggleable__control:checked~label.sk-toggleable__label {background-color: #d4ebff;}#sk-container-id-2 div.sk-label input.sk-toggleable__control:checked~label.sk-toggleable__label {background-color: #d4ebff;}#sk-container-id-2 input.sk-hidden--visually {border: 0;clip: rect(1px 1px 1px 1px);clip: rect(1px, 1px, 1px, 1px);height: 1px;margin: -1px;overflow: hidden;padding: 0;position: absolute;width: 1px;}#sk-container-id-2 div.sk-estimator {font-family: monospace;background-color: #f0f8ff;border: 1px dotted black;border-radius: 0.25em;box-sizing: border-box;margin-bottom: 0.5em;}#sk-container-id-2 div.sk-estimator:hover {background-color: #d4ebff;}#sk-container-id-2 div.sk-parallel-item::after {content: \"\";width: 100%;border-bottom: 1px solid gray;flex-grow: 1;}#sk-container-id-2 div.sk-label:hover label.sk-toggleable__label {background-color: #d4ebff;}#sk-container-id-2 div.sk-serial::before {content: \"\";position: absolute;border-left: 1px solid gray;box-sizing: border-box;top: 0;bottom: 0;left: 50%;z-index: 0;}#sk-container-id-2 div.sk-serial {display: flex;flex-direction: column;align-items: center;background-color: white;padding-right: 0.2em;padding-left: 0.2em;position: relative;}#sk-container-id-2 div.sk-item {position: relative;z-index: 1;}#sk-container-id-2 div.sk-parallel {display: flex;align-items: stretch;justify-content: center;background-color: white;position: relative;}#sk-container-id-2 div.sk-item::before, #sk-container-id-2 div.sk-parallel-item::before {content: \"\";position: absolute;border-left: 1px solid gray;box-sizing: border-box;top: 0;bottom: 0;left: 50%;z-index: -1;}#sk-container-id-2 div.sk-parallel-item {display: flex;flex-direction: column;z-index: 1;position: relative;background-color: white;}#sk-container-id-2 div.sk-parallel-item:first-child::after {align-self: flex-end;width: 50%;}#sk-container-id-2 div.sk-parallel-item:last-child::after {align-self: flex-start;width: 50%;}#sk-container-id-2 div.sk-parallel-item:only-child::after {width: 0;}#sk-container-id-2 div.sk-dashed-wrapped {border: 1px dashed gray;margin: 0 0.4em 0.5em 0.4em;box-sizing: border-box;padding-bottom: 0.4em;background-color: white;}#sk-container-id-2 div.sk-label label {font-family: monospace;font-weight: bold;display: inline-block;line-height: 1.2em;}#sk-container-id-2 div.sk-label-container {text-align: center;}#sk-container-id-2 div.sk-container {/* jupyter's `normalize.less` sets `[hidden] { display: none; }` but bootstrap.min.css set `[hidden] { display: none !important; }` so we also need the `!important` here to be able to override the default hidden behavior on the sphinx rendered scikit-learn.org. See: https://github.com/scikit-learn/scikit-learn/issues/21755 */display: inline-block !important;position: relative;}#sk-container-id-2 div.sk-text-repr-fallback {display: none;}</style><div id=\"sk-container-id-2\" class=\"sk-top-container\"><div class=\"sk-text-repr-fallback\"><pre>IncrementalPCA(batch_size=10, n_components=3)</pre><b>In a Jupyter environment, please rerun this cell to show the HTML representation or trust the notebook. <br />On GitHub, the HTML representation is unable to render, please try loading this page with nbviewer.org.</b></div><div class=\"sk-container\" hidden><div class=\"sk-item\"><div class=\"sk-estimator sk-toggleable\"><input class=\"sk-toggleable__control sk-hidden--visually\" id=\"sk-estimator-id-2\" type=\"checkbox\" checked><label for=\"sk-estimator-id-2\" class=\"sk-toggleable__label sk-toggleable__label-arrow\">IncrementalPCA</label><div class=\"sk-toggleable__content\"><pre>IncrementalPCA(batch_size=10, n_components=3)</pre></div></div></div></div></div>"
      ],
      "text/plain": [
       "IncrementalPCA(batch_size=10, n_components=3)"
      ]
     },
     "execution_count": 25,
     "metadata": {},
     "output_type": "execute_result"
    }
   ],
   "source": [
    "#Como haremos una comparación con incremental PCA, hacemos los mismos pasos\n",
    "## EL parámetro batch se usa para crear pequeños bloques, de esta forma podemos ir entrenandolos\n",
    "## poco a poco y combinarlos en el resultado final'''\n",
    "ipca = IncrementalPCA(n_components=3, batch_size=10)\n",
    "# Ajustamos\n",
    "ipca.fit(X_train)"
   ]
  },
  {
   "cell_type": "markdown",
   "id": "0e9d5b77-1a2c-4ac2-a79a-f498bddc07fa",
   "metadata": {},
   "source": [
    "Una vez ajustados los datos vamos a poder medir la varianza de los componentes que obtengo al ejecutarse y lo vamos a ver con una representación gráfica."
   ]
  },
  {
   "cell_type": "code",
   "execution_count": 26,
   "id": "4120f3c1-f717-4db2-9752-cd118bc7a946",
   "metadata": {},
   "outputs": [
    {
     "data": {
      "image/png": "[encoded data removed]",
      "text/plain": [
       "<Figure size 432x288 with 1 Axes>"
      ]
     },
     "metadata": {
      "needs_background": "light"
     },
     "output_type": "display_data"
    }
   ],
   "source": [
    "# range(len(pca.explained_variance_) es el eje x: grafica en el rango desde 0 hasta el número de componentes\n",
    "## es decir, la longitud de los componentes que me sugirió pca\n",
    "# pca.explained_variance_ratio_ es el eje y: se ven los valores de importancia para nuestro modelo\n",
    "plt.plot(range(len(pca.explained_variance_)), pca.explained_variance_ratio_)\n",
    "plt.show()"
   ]
  },
  {
   "cell_type": "markdown",
   "id": "5d5fc1ad-c6c4-42e4-b2ba-0bc8627e710a",
   "metadata": {},
   "source": [
    "Nos muestra 3 componenetes (0, 1 y 2) y nos dice que el componente 0 se lleva la mayor importancia, mas del 20% de la información, mientras que la segunda apenas supera el 12% y la tercera casi no tiene importancia.\n",
    "Podemos intuir que las dos primeras componentes son las que nos están aportando la mayor cantidad de información relevante."
   ]
  },
  {
   "cell_type": "code",
   "execution_count": 27,
   "id": "c5bb68b7-afc6-4d0c-b0d4-16e9af2f9ad7",
   "metadata": {},
   "outputs": [],
   "source": [
    "#Ahora vamos a configurar nuestra regresión logística\n",
    "logistic = LogisticRegression(solver='lbfgs')"
   ]
  },
  {
   "cell_type": "code",
   "execution_count": 28,
   "id": "db49fc32-a4c8-40be-a749-5c71fb2cdd65",
   "metadata": {},
   "outputs": [],
   "source": [
    "# Configuramos los datos de entrenamiento para pca\n",
    "# tanto en el conjunto de entrenamiento como de testeo\n",
    "dt_train = pca.transform(X_train)\n",
    "dt_test = pca.transform(X_test)"
   ]
  },
  {
   "cell_type": "code",
   "execution_count": 29,
   "id": "852937f0-af93-4182-ab43-a84cfe385d19",
   "metadata": {},
   "outputs": [
    {
     "data": {
      "text/html": [
       "<style>#sk-container-id-3 {color: black;background-color: white;}#sk-container-id-3 pre{padding: 0;}#sk-container-id-3 div.sk-toggleable {background-color: white;}#sk-container-id-3 label.sk-toggleable__label {cursor: pointer;display: block;width: 100%;margin-bottom: 0;padding: 0.3em;box-sizing: border-box;text-align: center;}#sk-container-id-3 label.sk-toggleable__label-arrow:before {content: \"▸\";float: left;margin-right: 0.25em;color: #696969;}#sk-container-id-3 label.sk-toggleable__label-arrow:hover:before {color: black;}#sk-container-id-3 div.sk-estimator:hover label.sk-toggleable__label-arrow:before {color: black;}#sk-container-id-3 div.sk-toggleable__content {max-height: 0;max-width: 0;overflow: hidden;text-align: left;background-color: #f0f8ff;}#sk-container-id-3 div.sk-toggleable__content pre {margin: 0.2em;color: black;border-radius: 0.25em;background-color: #f0f8ff;}#sk-container-id-3 input.sk-toggleable__control:checked~div.sk-toggleable__content {max-height: 200px;max-width: 100%;overflow: auto;}#sk-container-id-3 input.sk-toggleable__control:checked~label.sk-toggleable__label-arrow:before {content: \"▾\";}#sk-container-id-3 div.sk-estimator input.sk-toggleable__control:checked~label.sk-toggleable__label {background-color: #d4ebff;}#sk-container-id-3 div.sk-label input.sk-toggleable__control:checked~label.sk-toggleable__label {background-color: #d4ebff;}#sk-container-id-3 input.sk-hidden--visually {border: 0;clip: rect(1px 1px 1px 1px);clip: rect(1px, 1px, 1px, 1px);height: 1px;margin: -1px;overflow: hidden;padding: 0;position: absolute;width: 1px;}#sk-container-id-3 div.sk-estimator {font-family: monospace;background-color: #f0f8ff;border: 1px dotted black;border-radius: 0.25em;box-sizing: border-box;margin-bottom: 0.5em;}#sk-container-id-3 div.sk-estimator:hover {background-color: #d4ebff;}#sk-container-id-3 div.sk-parallel-item::after {content: \"\";width: 100%;border-bottom: 1px solid gray;flex-grow: 1;}#sk-container-id-3 div.sk-label:hover label.sk-toggleable__label {background-color: #d4ebff;}#sk-container-id-3 div.sk-serial::before {content: \"\";position: absolute;border-left: 1px solid gray;box-sizing: border-box;top: 0;bottom: 0;left: 50%;z-index: 0;}#sk-container-id-3 div.sk-serial {display: flex;flex-direction: column;align-items: center;background-color: white;padding-right: 0.2em;padding-left: 0.2em;position: relative;}#sk-container-id-3 div.sk-item {position: relative;z-index: 1;}#sk-container-id-3 div.sk-parallel {display: flex;align-items: stretch;justify-content: center;background-color: white;position: relative;}#sk-container-id-3 div.sk-item::before, #sk-container-id-3 div.sk-parallel-item::before {content: \"\";position: absolute;border-left: 1px solid gray;box-sizing: border-box;top: 0;bottom: 0;left: 50%;z-index: -1;}#sk-container-id-3 div.sk-parallel-item {display: flex;flex-direction: column;z-index: 1;position: relative;background-color: white;}#sk-container-id-3 div.sk-parallel-item:first-child::after {align-self: flex-end;width: 50%;}#sk-container-id-3 div.sk-parallel-item:last-child::after {align-self: flex-start;width: 50%;}#sk-container-id-3 div.sk-parallel-item:only-child::after {width: 0;}#sk-container-id-3 div.sk-dashed-wrapped {border: 1px dashed gray;margin: 0 0.4em 0.5em 0.4em;box-sizing: border-box;padding-bottom: 0.4em;background-color: white;}#sk-container-id-3 div.sk-label label {font-family: monospace;font-weight: bold;display: inline-block;line-height: 1.2em;}#sk-container-id-3 div.sk-label-container {text-align: center;}#sk-container-id-3 div.sk-container {/* jupyter's `normalize.less` sets `[hidden] { display: none; }` but bootstrap.min.css set `[hidden] { display: none !important; }` so we also need the `!important` here to be able to override the default hidden behavior on the sphinx rendered scikit-learn.org. See: https://github.com/scikit-learn/scikit-learn/issues/21755 */display: inline-block !important;position: relative;}#sk-container-id-3 div.sk-text-repr-fallback {display: none;}</style><div id=\"sk-container-id-3\" class=\"sk-top-container\"><div class=\"sk-text-repr-fallback\"><pre>LogisticRegression()</pre><b>In a Jupyter environment, please rerun this cell to show the HTML representation or trust the notebook. <br />On GitHub, the HTML representation is unable to render, please try loading this page with nbviewer.org.</b></div><div class=\"sk-container\" hidden><div class=\"sk-item\"><div class=\"sk-estimator sk-toggleable\"><input class=\"sk-toggleable__control sk-hidden--visually\" id=\"sk-estimator-id-3\" type=\"checkbox\" checked><label for=\"sk-estimator-id-3\" class=\"sk-toggleable__label sk-toggleable__label-arrow\">LogisticRegression</label><div class=\"sk-toggleable__content\"><pre>LogisticRegression()</pre></div></div></div></div></div>"
      ],
      "text/plain": [
       "LogisticRegression()"
      ]
     },
     "execution_count": 29,
     "metadata": {},
     "output_type": "execute_result"
    }
   ],
   "source": [
    "# pasamos nuestro conjunto de entrenamiento por el modelo de clasificación\n",
    "logistic.fit(dt_train, y_train)"
   ]
  },
  {
   "cell_type": "code",
   "execution_count": 30,
   "id": "4a22fe22-9910-4814-8b70-7bae9014fe0a",
   "metadata": {},
   "outputs": [
    {
     "name": "stdout",
     "output_type": "stream",
     "text": [
      "SCORE PCA:  0.7857142857142857\n"
     ]
    }
   ],
   "source": [
    "#Calculamos nuestra exactitud de nuestra predicción\n",
    "print(\"SCORE PCA: \", logistic.score(dt_test, y_test))"
   ]
  },
  {
   "cell_type": "code",
   "execution_count": 31,
   "id": "45ce071b-5fdd-46f6-a497-e83b418d20bb",
   "metadata": {},
   "outputs": [
    {
     "name": "stdout",
     "output_type": "stream",
     "text": [
      "SCORE IPCA:  0.8051948051948052\n"
     ]
    }
   ],
   "source": [
    "# Hacemos lo mismo para ipca\n",
    "dt_train = ipca.transform(X_train)\n",
    "dt_test = ipca.transform(X_test)\n",
    "logistic.fit(dt_train, y_train)\n",
    "print(\"SCORE IPCA: \", logistic.score(dt_test, y_test))"
   ]
  },
  {
   "cell_type": "markdown",
   "id": "81aba278-8c7b-43f9-be2c-fd5efbeb4f72",
   "metadata": {},
   "source": [
    "Lo que hicimos fue, reducir los features del data set de 13 que tenía originalmente a 3 features artificiales mediante PCA y luego hicimos una clasificación binaria entre pacientes con o sin enfermedad cardíaca."
   ]
  },
  {
   "cell_type": "markdown",
   "id": "9cc693b3-e061-4ddf-b7a9-dff8e0b8d850",
   "metadata": {},
   "source": [
    "## Variaciones de PCA\n",
    "\n",
    "* IPCA: es PCA incremental y lo usamos cuando necesitamos poder computacional (lo vimos antes)\n",
    "* KPCA: cuando los datos no tienen una estructura separable linealmente y encontramos un Kernel que puede mapearlos\n",
    "\n",
    "### Kernel PCA\n",
    "\n",
    "Un KERNEL es una función matemática que toma mediciones que se comportan de manera no lineal y las proyecta en un espacio dimensional mas grande donde son linealmente separables."
   ]
  },
  {
   "cell_type": "code",
   "execution_count": 32,
   "id": "056df2d2-9335-474a-82ca-95ff6ace4c73",
   "metadata": {},
   "outputs": [],
   "source": [
    "from sklearn.decomposition import KernelPCA"
   ]
  },
  {
   "cell_type": "code",
   "execution_count": 33,
   "id": "bbad70f2-703e-4fd1-8f2f-ab2bc25f095e",
   "metadata": {},
   "outputs": [],
   "source": [
    "# Hacemos todo lo mismo que antes\n",
    "dt_heart = pd.read_csv('datasets\\heart.csv')\n",
    "dt_features = dt_heart.drop(['target'], axis=1)\n",
    "dt_target = dt_heart['target']\n",
    "dt_features = StandardScaler().fit_transform(dt_features)\n",
    "X_train, X_test, y_train, y_test = train_test_split(dt_features, dt_target, test_size=0.3, random_state=42)"
   ]
  },
  {
   "cell_type": "code",
   "execution_count": 34,
   "id": "9c75fdfd-9cb2-4f9a-a33d-864a63c37062",
   "metadata": {},
   "outputs": [],
   "source": [
    "# definimos una variable para el modelo\n",
    "kpca = KernelPCA(n_components=4, kernel='poly')"
   ]
  },
  {
   "cell_type": "code",
   "execution_count": 35,
   "id": "e0d91cbe-02b2-4e9a-9c1d-839a596df2df",
   "metadata": {},
   "outputs": [
    {
     "data": {
      "text/html": [
       "<style>#sk-container-id-4 {color: black;background-color: white;}#sk-container-id-4 pre{padding: 0;}#sk-container-id-4 div.sk-toggleable {background-color: white;}#sk-container-id-4 label.sk-toggleable__label {cursor: pointer;display: block;width: 100%;margin-bottom: 0;padding: 0.3em;box-sizing: border-box;text-align: center;}#sk-container-id-4 label.sk-toggleable__label-arrow:before {content: \"▸\";float: left;margin-right: 0.25em;color: #696969;}#sk-container-id-4 label.sk-toggleable__label-arrow:hover:before {color: black;}#sk-container-id-4 div.sk-estimator:hover label.sk-toggleable__label-arrow:before {color: black;}#sk-container-id-4 div.sk-toggleable__content {max-height: 0;max-width: 0;overflow: hidden;text-align: left;background-color: #f0f8ff;}#sk-container-id-4 div.sk-toggleable__content pre {margin: 0.2em;color: black;border-radius: 0.25em;background-color: #f0f8ff;}#sk-container-id-4 input.sk-toggleable__control:checked~div.sk-toggleable__content {max-height: 200px;max-width: 100%;overflow: auto;}#sk-container-id-4 input.sk-toggleable__control:checked~label.sk-toggleable__label-arrow:before {content: \"▾\";}#sk-container-id-4 div.sk-estimator input.sk-toggleable__control:checked~label.sk-toggleable__label {background-color: #d4ebff;}#sk-container-id-4 div.sk-label input.sk-toggleable__control:checked~label.sk-toggleable__label {background-color: #d4ebff;}#sk-container-id-4 input.sk-hidden--visually {border: 0;clip: rect(1px 1px 1px 1px);clip: rect(1px, 1px, 1px, 1px);height: 1px;margin: -1px;overflow: hidden;padding: 0;position: absolute;width: 1px;}#sk-container-id-4 div.sk-estimator {font-family: monospace;background-color: #f0f8ff;border: 1px dotted black;border-radius: 0.25em;box-sizing: border-box;margin-bottom: 0.5em;}#sk-container-id-4 div.sk-estimator:hover {background-color: #d4ebff;}#sk-container-id-4 div.sk-parallel-item::after {content: \"\";width: 100%;border-bottom: 1px solid gray;flex-grow: 1;}#sk-container-id-4 div.sk-label:hover label.sk-toggleable__label {background-color: #d4ebff;}#sk-container-id-4 div.sk-serial::before {content: \"\";position: absolute;border-left: 1px solid gray;box-sizing: border-box;top: 0;bottom: 0;left: 50%;z-index: 0;}#sk-container-id-4 div.sk-serial {display: flex;flex-direction: column;align-items: center;background-color: white;padding-right: 0.2em;padding-left: 0.2em;position: relative;}#sk-container-id-4 div.sk-item {position: relative;z-index: 1;}#sk-container-id-4 div.sk-parallel {display: flex;align-items: stretch;justify-content: center;background-color: white;position: relative;}#sk-container-id-4 div.sk-item::before, #sk-container-id-4 div.sk-parallel-item::before {content: \"\";position: absolute;border-left: 1px solid gray;box-sizing: border-box;top: 0;bottom: 0;left: 50%;z-index: -1;}#sk-container-id-4 div.sk-parallel-item {display: flex;flex-direction: column;z-index: 1;position: relative;background-color: white;}#sk-container-id-4 div.sk-parallel-item:first-child::after {align-self: flex-end;width: 50%;}#sk-container-id-4 div.sk-parallel-item:last-child::after {align-self: flex-start;width: 50%;}#sk-container-id-4 div.sk-parallel-item:only-child::after {width: 0;}#sk-container-id-4 div.sk-dashed-wrapped {border: 1px dashed gray;margin: 0 0.4em 0.5em 0.4em;box-sizing: border-box;padding-bottom: 0.4em;background-color: white;}#sk-container-id-4 div.sk-label label {font-family: monospace;font-weight: bold;display: inline-block;line-height: 1.2em;}#sk-container-id-4 div.sk-label-container {text-align: center;}#sk-container-id-4 div.sk-container {/* jupyter's `normalize.less` sets `[hidden] { display: none; }` but bootstrap.min.css set `[hidden] { display: none !important; }` so we also need the `!important` here to be able to override the default hidden behavior on the sphinx rendered scikit-learn.org. See: https://github.com/scikit-learn/scikit-learn/issues/21755 */display: inline-block !important;position: relative;}#sk-container-id-4 div.sk-text-repr-fallback {display: none;}</style><div id=\"sk-container-id-4\" class=\"sk-top-container\"><div class=\"sk-text-repr-fallback\"><pre>KernelPCA(kernel=&#x27;poly&#x27;, n_components=4)</pre><b>In a Jupyter environment, please rerun this cell to show the HTML representation or trust the notebook. <br />On GitHub, the HTML representation is unable to render, please try loading this page with nbviewer.org.</b></div><div class=\"sk-container\" hidden><div class=\"sk-item\"><div class=\"sk-estimator sk-toggleable\"><input class=\"sk-toggleable__control sk-hidden--visually\" id=\"sk-estimator-id-4\" type=\"checkbox\" checked><label for=\"sk-estimator-id-4\" class=\"sk-toggleable__label sk-toggleable__label-arrow\">KernelPCA</label><div class=\"sk-toggleable__content\"><pre>KernelPCA(kernel=&#x27;poly&#x27;, n_components=4)</pre></div></div></div></div></div>"
      ],
      "text/plain": [
       "KernelPCA(kernel='poly', n_components=4)"
      ]
     },
     "execution_count": 35,
     "metadata": {},
     "output_type": "execute_result"
    }
   ],
   "source": [
    "# Ajustamos los datos\n",
    "kpca.fit(X_train)"
   ]
  },
  {
   "cell_type": "code",
   "execution_count": 36,
   "id": "1b54d8df-26fe-498e-89a8-1a012ae9fea4",
   "metadata": {},
   "outputs": [],
   "source": [
    "# Aplicamos nuestro modelo a los datos de entrenamiento y prueba\n",
    "dt_train = kpca.transform(X_train)\n",
    "dt_test = kpca.transform(X_test)"
   ]
  },
  {
   "cell_type": "code",
   "execution_count": 38,
   "id": "1246e611-8ad3-4a87-a000-ac20456ba402",
   "metadata": {},
   "outputs": [],
   "source": [
    "# Una vez reducida la dimensionalidad aplicamos el clasificador\n",
    "logistic = LogisticRegression(solver='lbfgs')"
   ]
  },
  {
   "cell_type": "code",
   "execution_count": 39,
   "id": "c4bcefb6-1281-4d51-aa0d-ab00d03a9ae4",
   "metadata": {},
   "outputs": [
    {
     "name": "stdout",
     "output_type": "stream",
     "text": [
      "SCORE KPCA:  0.7987012987012987\n"
     ]
    }
   ],
   "source": [
    "# Entrenamos\n",
    "logistic.fit(dt_train, y_train)\n",
    "print(\"SCORE KPCA: \", logistic.score(dt_test, y_test))"
   ]
  },
  {
   "cell_type": "markdown",
   "id": "1df3590a-c2bd-4382-be5d-0a61d9ba4238",
   "metadata": {},
   "source": [
    "## Regularización\n",
    "\n",
    "Consiste en reducir la complejidad del modelo a través de una penalización aplicada a sus variables o features mas irrelevantes.\n",
    "\n",
    "Tipos de recularización:\n",
    "* **L1 o Lasso**: reduce la complejidad a través de la **eliminación** de features que no aportan demasiado al modelo\n",
    "* **L2 o Ridge**: reduce la complejidad **disminuyendo** el impacto de los features que no aportan demasiado.\n",
    "* **ElasticNet**: combina las dos regulaciones anteriores"
   ]
  },
  {
   "cell_type": "code",
   "execution_count": 40,
   "id": "f3ec45af-b088-4936-9017-393e101d0890",
   "metadata": {},
   "outputs": [],
   "source": [
    "# importamos las funciones que necesitamos\n",
    "from sklearn.linear_model import LinearRegression\n",
    "from sklearn.linear_model import Lasso\n",
    "from sklearn.linear_model import Ridge\n",
    "\n",
    "from sklearn.metrics import mean_squared_error"
   ]
  },
  {
   "cell_type": "code",
   "execution_count": 42,
   "id": "eb4781c8-c17c-4840-8c8d-ae2e4d69b5db",
   "metadata": {},
   "outputs": [],
   "source": [
    "# Cargamos los datos del dataframe de pandas\n",
    "dataset = pd.read_csv('./datasets/felicidad.csv')"
   ]
  },
  {
   "cell_type": "code",
   "execution_count": 43,
   "id": "f2b29a08-f735-4561-84a3-2f29de5e7ff8",
   "metadata": {
    "collapsed": true,
    "jupyter": {
     "outputs_hidden": true
    },
    "tags": []
   },
   "outputs": [
    {
     "data": {
      "text/html": [
       "<div>\n",
       "<style scoped>\n",
       "    .dataframe tbody tr th:only-of-type {\n",
       "        vertical-align: middle;\n",
       "    }\n",
       "\n",
       "    .dataframe tbody tr th {\n",
       "        vertical-align: top;\n",
       "    }\n",
       "\n",
       "    .dataframe thead th {\n",
       "        text-align: right;\n",
       "    }\n",
       "</style>\n",
       "<table border=\"1\" class=\"dataframe\">\n",
       "  <thead>\n",
       "    <tr style=\"text-align: right;\">\n",
       "      <th></th>\n",
       "      <th>country</th>\n",
       "      <th>rank</th>\n",
       "      <th>score</th>\n",
       "      <th>high</th>\n",
       "      <th>low</th>\n",
       "      <th>gdp</th>\n",
       "      <th>family</th>\n",
       "      <th>lifexp</th>\n",
       "      <th>freedom</th>\n",
       "      <th>generosity</th>\n",
       "      <th>corruption</th>\n",
       "      <th>dystopia</th>\n",
       "    </tr>\n",
       "  </thead>\n",
       "  <tbody>\n",
       "    <tr>\n",
       "      <th>0</th>\n",
       "      <td>Norway</td>\n",
       "      <td>1</td>\n",
       "      <td>7.537</td>\n",
       "      <td>7.594445</td>\n",
       "      <td>7.479556</td>\n",
       "      <td>1.616463</td>\n",
       "      <td>1.533524</td>\n",
       "      <td>0.796667</td>\n",
       "      <td>0.635423</td>\n",
       "      <td>0.362012</td>\n",
       "      <td>0.315964</td>\n",
       "      <td>2.277027</td>\n",
       "    </tr>\n",
       "    <tr>\n",
       "      <th>1</th>\n",
       "      <td>Denmark</td>\n",
       "      <td>2</td>\n",
       "      <td>7.522</td>\n",
       "      <td>7.581728</td>\n",
       "      <td>7.462272</td>\n",
       "      <td>1.482383</td>\n",
       "      <td>1.551122</td>\n",
       "      <td>0.792566</td>\n",
       "      <td>0.626007</td>\n",
       "      <td>0.355280</td>\n",
       "      <td>0.400770</td>\n",
       "      <td>2.313707</td>\n",
       "    </tr>\n",
       "    <tr>\n",
       "      <th>2</th>\n",
       "      <td>Iceland</td>\n",
       "      <td>3</td>\n",
       "      <td>7.504</td>\n",
       "      <td>7.622030</td>\n",
       "      <td>7.385970</td>\n",
       "      <td>1.480633</td>\n",
       "      <td>1.610574</td>\n",
       "      <td>0.833552</td>\n",
       "      <td>0.627163</td>\n",
       "      <td>0.475540</td>\n",
       "      <td>0.153527</td>\n",
       "      <td>2.322715</td>\n",
       "    </tr>\n",
       "    <tr>\n",
       "      <th>3</th>\n",
       "      <td>Switzerland</td>\n",
       "      <td>4</td>\n",
       "      <td>7.494</td>\n",
       "      <td>7.561772</td>\n",
       "      <td>7.426227</td>\n",
       "      <td>1.564980</td>\n",
       "      <td>1.516912</td>\n",
       "      <td>0.858131</td>\n",
       "      <td>0.620071</td>\n",
       "      <td>0.290549</td>\n",
       "      <td>0.367007</td>\n",
       "      <td>2.276716</td>\n",
       "    </tr>\n",
       "    <tr>\n",
       "      <th>4</th>\n",
       "      <td>Finland</td>\n",
       "      <td>5</td>\n",
       "      <td>7.469</td>\n",
       "      <td>7.527542</td>\n",
       "      <td>7.410458</td>\n",
       "      <td>1.443572</td>\n",
       "      <td>1.540247</td>\n",
       "      <td>0.809158</td>\n",
       "      <td>0.617951</td>\n",
       "      <td>0.245483</td>\n",
       "      <td>0.382612</td>\n",
       "      <td>2.430182</td>\n",
       "    </tr>\n",
       "  </tbody>\n",
       "</table>\n",
       "</div>"
      ],
      "text/plain": [
       "       country  rank  score      high       low       gdp    family    lifexp  \\\n",
       "0       Norway     1  7.537  7.594445  7.479556  1.616463  1.533524  0.796667   \n",
       "1      Denmark     2  7.522  7.581728  7.462272  1.482383  1.551122  0.792566   \n",
       "2      Iceland     3  7.504  7.622030  7.385970  1.480633  1.610574  0.833552   \n",
       "3  Switzerland     4  7.494  7.561772  7.426227  1.564980  1.516912  0.858131   \n",
       "4      Finland     5  7.469  7.527542  7.410458  1.443572  1.540247  0.809158   \n",
       "\n",
       "    freedom  generosity  corruption  dystopia  \n",
       "0  0.635423    0.362012    0.315964  2.277027  \n",
       "1  0.626007    0.355280    0.400770  2.313707  \n",
       "2  0.627163    0.475540    0.153527  2.322715  \n",
       "3  0.620071    0.290549    0.367007  2.276716  \n",
       "4  0.617951    0.245483    0.382612  2.430182  "
      ]
     },
     "execution_count": 43,
     "metadata": {},
     "output_type": "execute_result"
    }
   ],
   "source": [
    "dataset.head()"
   ]
  },
  {
   "cell_type": "code",
   "execution_count": 44,
   "id": "bb75df1e-a7f1-4660-9102-37ed31dffb7a",
   "metadata": {
    "collapsed": true,
    "jupyter": {
     "outputs_hidden": true
    },
    "tags": []
   },
   "outputs": [
    {
     "data": {
      "text/html": [
       "<div>\n",
       "<style scoped>\n",
       "    .dataframe tbody tr th:only-of-type {\n",
       "        vertical-align: middle;\n",
       "    }\n",
       "\n",
       "    .dataframe tbody tr th {\n",
       "        vertical-align: top;\n",
       "    }\n",
       "\n",
       "    .dataframe thead th {\n",
       "        text-align: right;\n",
       "    }\n",
       "</style>\n",
       "<table border=\"1\" class=\"dataframe\">\n",
       "  <thead>\n",
       "    <tr style=\"text-align: right;\">\n",
       "      <th></th>\n",
       "      <th>rank</th>\n",
       "      <th>score</th>\n",
       "      <th>high</th>\n",
       "      <th>low</th>\n",
       "      <th>gdp</th>\n",
       "      <th>family</th>\n",
       "      <th>lifexp</th>\n",
       "      <th>freedom</th>\n",
       "      <th>generosity</th>\n",
       "      <th>corruption</th>\n",
       "      <th>dystopia</th>\n",
       "    </tr>\n",
       "  </thead>\n",
       "  <tbody>\n",
       "    <tr>\n",
       "      <th>count</th>\n",
       "      <td>155.000000</td>\n",
       "      <td>155.000000</td>\n",
       "      <td>155.000000</td>\n",
       "      <td>155.000000</td>\n",
       "      <td>155.000000</td>\n",
       "      <td>155.000000</td>\n",
       "      <td>155.000000</td>\n",
       "      <td>155.000000</td>\n",
       "      <td>155.000000</td>\n",
       "      <td>155.000000</td>\n",
       "      <td>155.000000</td>\n",
       "    </tr>\n",
       "    <tr>\n",
       "      <th>mean</th>\n",
       "      <td>78.000000</td>\n",
       "      <td>5.354019</td>\n",
       "      <td>5.452326</td>\n",
       "      <td>5.255713</td>\n",
       "      <td>0.984718</td>\n",
       "      <td>1.188898</td>\n",
       "      <td>0.551341</td>\n",
       "      <td>0.408786</td>\n",
       "      <td>0.246883</td>\n",
       "      <td>0.123120</td>\n",
       "      <td>1.850238</td>\n",
       "    </tr>\n",
       "    <tr>\n",
       "      <th>std</th>\n",
       "      <td>44.888751</td>\n",
       "      <td>1.131230</td>\n",
       "      <td>1.118542</td>\n",
       "      <td>1.145030</td>\n",
       "      <td>0.420793</td>\n",
       "      <td>0.287263</td>\n",
       "      <td>0.237073</td>\n",
       "      <td>0.149997</td>\n",
       "      <td>0.134780</td>\n",
       "      <td>0.101661</td>\n",
       "      <td>0.500028</td>\n",
       "    </tr>\n",
       "    <tr>\n",
       "      <th>min</th>\n",
       "      <td>1.000000</td>\n",
       "      <td>2.693000</td>\n",
       "      <td>2.864884</td>\n",
       "      <td>2.521116</td>\n",
       "      <td>0.000000</td>\n",
       "      <td>0.000000</td>\n",
       "      <td>0.000000</td>\n",
       "      <td>0.000000</td>\n",
       "      <td>0.000000</td>\n",
       "      <td>0.000000</td>\n",
       "      <td>0.377914</td>\n",
       "    </tr>\n",
       "    <tr>\n",
       "      <th>25%</th>\n",
       "      <td>39.500000</td>\n",
       "      <td>4.505500</td>\n",
       "      <td>4.608172</td>\n",
       "      <td>4.374955</td>\n",
       "      <td>0.663371</td>\n",
       "      <td>1.042635</td>\n",
       "      <td>0.369866</td>\n",
       "      <td>0.303677</td>\n",
       "      <td>0.154106</td>\n",
       "      <td>0.057271</td>\n",
       "      <td>1.591291</td>\n",
       "    </tr>\n",
       "    <tr>\n",
       "      <th>50%</th>\n",
       "      <td>78.000000</td>\n",
       "      <td>5.279000</td>\n",
       "      <td>5.370032</td>\n",
       "      <td>5.193152</td>\n",
       "      <td>1.064578</td>\n",
       "      <td>1.253918</td>\n",
       "      <td>0.606042</td>\n",
       "      <td>0.437454</td>\n",
       "      <td>0.231538</td>\n",
       "      <td>0.089848</td>\n",
       "      <td>1.832910</td>\n",
       "    </tr>\n",
       "    <tr>\n",
       "      <th>75%</th>\n",
       "      <td>116.500000</td>\n",
       "      <td>6.101500</td>\n",
       "      <td>6.194600</td>\n",
       "      <td>6.006527</td>\n",
       "      <td>1.318027</td>\n",
       "      <td>1.414316</td>\n",
       "      <td>0.723008</td>\n",
       "      <td>0.516561</td>\n",
       "      <td>0.323762</td>\n",
       "      <td>0.153296</td>\n",
       "      <td>2.144654</td>\n",
       "    </tr>\n",
       "    <tr>\n",
       "      <th>max</th>\n",
       "      <td>155.000000</td>\n",
       "      <td>7.537000</td>\n",
       "      <td>7.622030</td>\n",
       "      <td>7.479556</td>\n",
       "      <td>1.870766</td>\n",
       "      <td>1.610574</td>\n",
       "      <td>0.949492</td>\n",
       "      <td>0.658249</td>\n",
       "      <td>0.838075</td>\n",
       "      <td>0.464308</td>\n",
       "      <td>3.117485</td>\n",
       "    </tr>\n",
       "  </tbody>\n",
       "</table>\n",
       "</div>"
      ],
      "text/plain": [
       "             rank       score        high         low         gdp      family  \\\n",
       "count  155.000000  155.000000  155.000000  155.000000  155.000000  155.000000   \n",
       "mean    78.000000    5.354019    5.452326    5.255713    0.984718    1.188898   \n",
       "std     44.888751    1.131230    1.118542    1.145030    0.420793    0.287263   \n",
       "min      1.000000    2.693000    2.864884    2.521116    0.000000    0.000000   \n",
       "25%     39.500000    4.505500    4.608172    4.374955    0.663371    1.042635   \n",
       "50%     78.000000    5.279000    5.370032    5.193152    1.064578    1.253918   \n",
       "75%    116.500000    6.101500    6.194600    6.006527    1.318027    1.414316   \n",
       "max    155.000000    7.537000    7.622030    7.479556    1.870766    1.610574   \n",
       "\n",
       "           lifexp     freedom  generosity  corruption    dystopia  \n",
       "count  155.000000  155.000000  155.000000  155.000000  155.000000  \n",
       "mean     0.551341    0.408786    0.246883    0.123120    1.850238  \n",
       "std      0.237073    0.149997    0.134780    0.101661    0.500028  \n",
       "min      0.000000    0.000000    0.000000    0.000000    0.377914  \n",
       "25%      0.369866    0.303677    0.154106    0.057271    1.591291  \n",
       "50%      0.606042    0.437454    0.231538    0.089848    1.832910  \n",
       "75%      0.723008    0.516561    0.323762    0.153296    2.144654  \n",
       "max      0.949492    0.658249    0.838075    0.464308    3.117485  "
      ]
     },
     "execution_count": 44,
     "metadata": {},
     "output_type": "execute_result"
    }
   ],
   "source": [
    "dataset.describe()"
   ]
  },
  {
   "cell_type": "code",
   "execution_count": 45,
   "id": "e1efe003-cb4e-4446-b0fd-853f89354fc4",
   "metadata": {},
   "outputs": [],
   "source": [
    "# Vamos a elegir los features que queremos usar para nuestro X y las etiquetas para nuestro Y\n",
    "X = dataset[['gdp', 'family', 'lifexp', 'freedom', 'corruption', 'generosity', 'dystopia']]\n",
    "y = dataset[['score']]"
   ]
  },
  {
   "cell_type": "code",
   "execution_count": 46,
   "id": "dcb5e249-c627-4d0f-936f-7ea18e3938a7",
   "metadata": {},
   "outputs": [
    {
     "name": "stdout",
     "output_type": "stream",
     "text": [
      "(155, 7)\n",
      "(155, 1)\n"
     ]
    }
   ],
   "source": [
    "# Consultamos la forma de los x e y\n",
    "print(X.shape)\n",
    "print(y.shape)"
   ]
  },
  {
   "cell_type": "code",
   "execution_count": 66,
   "id": "fab95310-4770-4fc3-a973-01e17797d9d0",
   "metadata": {},
   "outputs": [],
   "source": [
    "# partimos el conjunto de datos\n",
    "X_train, X_test, y_train, y_test = train_test_split(X, y, test_size=0.30)"
   ]
  },
  {
   "cell_type": "code",
   "execution_count": 67,
   "id": "777876df-f2f7-4321-b1ea-28763983e362",
   "metadata": {},
   "outputs": [],
   "source": [
    "# Ajustamos nuestro modelo\n",
    "model_lineal = LinearRegression().fit(X_train, y_train)"
   ]
  },
  {
   "cell_type": "code",
   "execution_count": 68,
   "id": "9e7202b1-1404-4407-886c-86a01947f19f",
   "metadata": {},
   "outputs": [],
   "source": [
    "#Calculamos la prediccion que nos da con el conjunto de prueba\n",
    "y_predict_linear = model_lineal.predict(X_test)"
   ]
  },
  {
   "cell_type": "code",
   "execution_count": 73,
   "id": "1d321578-6437-4726-bfd3-feece03791eb",
   "metadata": {},
   "outputs": [],
   "source": [
    "# Creamos el modelo con recularización y entrenamos\n",
    "# A mas grande alpha mas penalización\n",
    "modelLasso = Lasso(alpha=0.02).fit(X_train, y_train)\n",
    "y_predict_lasso = modelLasso.predict(X_test)"
   ]
  },
  {
   "cell_type": "code",
   "execution_count": 74,
   "id": "00daaae1-fb53-41f1-82ca-0ad613616b7b",
   "metadata": {},
   "outputs": [],
   "source": [
    "# Lo mismo para Ridge\n",
    "modelRidge = Ridge(alpha=1).fit(X_train, y_train)\n",
    "y_predict_ridge = modelRidge.predict(X_test)"
   ]
  },
  {
   "cell_type": "code",
   "execution_count": 75,
   "id": "29be5b7b-f043-411b-806a-159ed252eddb",
   "metadata": {},
   "outputs": [
    {
     "name": "stdout",
     "output_type": "stream",
     "text": [
      "Linear Loss:  8.28147579490474e-08\n",
      "Linear Laso:  0.0559459407171727\n",
      "Linear Ridge:  0.008581305990298313\n"
     ]
    }
   ],
   "source": [
    "# La métrica que elegimos es el error cuadrático\n",
    "# definimos las pérdidas para cada modelo\n",
    "linear_loss = mean_squared_error(y_test, y_predict_linear)\n",
    "print('Linear Loss: ', linear_loss)\n",
    "linear_laso = mean_squared_error(y_test, y_predict_lasso)\n",
    "print('Linear Laso: ', linear_laso)\n",
    "linear_ridge = mean_squared_error(y_test, y_predict_ridge)\n",
    "print('Linear Ridge: ', linear_ridge)"
   ]
  },
  {
   "cell_type": "code",
   "execution_count": 76,
   "id": "d58f596b-df8d-4537-8afa-d450fcc3ad22",
   "metadata": {},
   "outputs": [
    {
     "name": "stdout",
     "output_type": "stream",
     "text": [
      "Coef LASSO\n",
      "[1.23881311 0.83275522 0.56373067 0.78502767 0.         0.19535702\n",
      " 0.88685095]\n",
      "================================================================================\n",
      "Coef RIDGE\n",
      "[[1.06876226 0.93685633 0.8636589  0.8909844  0.5875662  0.74116243\n",
      "  0.95402339]]\n"
     ]
    }
   ],
   "source": [
    "# Veamos como afectan los coeficientes de cada modelo, es decir, los que multiplican a los feature\n",
    "# para penalizar. En Lasso algunos tienen que ser cero y en Ridge cercano a cero pero no cero\n",
    "print('Coef LASSO')\n",
    "print(modelLasso.coef_)\n",
    "print('='*80)\n",
    "print('Coef RIDGE')\n",
    "print(modelRidge.coef_)"
   ]
  },
  {
   "cell_type": "markdown",
   "id": "352ba9d1-a01e-41d6-bc2f-70b87b737c47",
   "metadata": {},
   "source": [
    "Mirando los coeficientes podemos ver qué feature tiene mas peso"
   ]
  },
  {
   "cell_type": "code",
   "execution_count": 78,
   "id": "643bf7e6-e83b-41f5-b6ea-5b35f500aaea",
   "metadata": {},
   "outputs": [
    {
     "name": "stdout",
     "output_type": "stream",
     "text": [
      "Linear Elastic:  1.5372256779647213\n",
      "Coef ELASTIC\n",
      "[0. 0. 0. 0. 0. 0. 0.]\n"
     ]
    }
   ],
   "source": [
    "# Probamos ElasticNet\n",
    "from sklearn.linear_model import ElasticNet\n",
    "modelElastic = ElasticNet(random_state=0).fit(X_train, y_train)\n",
    "y_predict_Elastic = modelElastic.predict(X_test)\n",
    "linear_elastic = mean_squared_error(y_test, y_predict_Elastic)\n",
    "print('Linear Elastic: ', linear_elastic)\n",
    "print('Coef ELASTIC')\n",
    "print(modelElastic.coef_)"
   ]
  },
  {
   "cell_type": "markdown",
   "id": "06c9ee66-3dbf-49af-a8d7-16054240dd72",
   "metadata": {},
   "source": [
    "## Regresión Robusta\n",
    "\n",
    "Cuando tenemos **valores atípicos**, un procedimiento es eliminarlos o sino transformarlos, pero a veces no tenemos mas opción que lidiar con ellos al momento de aplicar los modelos.\n",
    "\n",
    "Scikit-learn nos ofrece metaestimadores que nos permiten configurar distintos estimadores para lidiar con los valores atípicos de una manera fácil de usar. Estas técnicas se las conoce como **Regresión robusta**.\n",
    "\n",
    "Métodos:\n",
    "\n",
    "* **RANSAC**: Random Sample Consensus, que hace un muestreo aleatorio sobre los datos y busca muestras que mas datos \"buenos\" logra incluir. El modelo asume que los valores \"malos\" no tienen patrones específicos.\n",
    "\n",
    "* **Huber Reggresor**: No intenta sacar los valores atípicos y dejarlos fuera, sino penalizalos para disminuir su influencia en el modelo. Los datos son tratados cómo atípicos si el error absoluto de nuestra pérdida está por encima de un valor umbral llamado epsilon (en general epsilon es 1,35)."
   ]
  },
  {
   "cell_type": "code",
   "execution_count": 79,
   "id": "e8aaf607-2ca4-4332-b923-addcf84bf826",
   "metadata": {},
   "outputs": [],
   "source": [
    "from sklearn.linear_model import (RANSACRegressor, HuberRegressor)\n",
    "from sklearn.svm import SVR #Es el regresor que vamos a usar\n",
    "from sklearn.metrics import mean_squared_error"
   ]
  },
  {
   "cell_type": "code",
   "execution_count": 81,
   "id": "43900d6e-72d3-46a7-aecd-f4b333311b7e",
   "metadata": {
    "collapsed": true,
    "jupyter": {
     "outputs_hidden": true
    },
    "tags": []
   },
   "outputs": [
    {
     "data": {
      "text/html": [
       "<div>\n",
       "<style scoped>\n",
       "    .dataframe tbody tr th:only-of-type {\n",
       "        vertical-align: middle;\n",
       "    }\n",
       "\n",
       "    .dataframe tbody tr th {\n",
       "        vertical-align: top;\n",
       "    }\n",
       "\n",
       "    .dataframe thead th {\n",
       "        text-align: right;\n",
       "    }\n",
       "</style>\n",
       "<table border=\"1\" class=\"dataframe\">\n",
       "  <thead>\n",
       "    <tr style=\"text-align: right;\">\n",
       "      <th></th>\n",
       "      <th>country</th>\n",
       "      <th>rank</th>\n",
       "      <th>score</th>\n",
       "      <th>high</th>\n",
       "      <th>low</th>\n",
       "      <th>gdp</th>\n",
       "      <th>family</th>\n",
       "      <th>lifexp</th>\n",
       "      <th>freedom</th>\n",
       "      <th>generosity</th>\n",
       "      <th>corruption</th>\n",
       "      <th>dystopia</th>\n",
       "    </tr>\n",
       "  </thead>\n",
       "  <tbody>\n",
       "    <tr>\n",
       "      <th>162</th>\n",
       "      <td>H</td>\n",
       "      <td>163</td>\n",
       "      <td>0.0</td>\n",
       "      <td>0.0</td>\n",
       "      <td>0.0</td>\n",
       "      <td>0.0</td>\n",
       "      <td>0.0</td>\n",
       "      <td>0.0</td>\n",
       "      <td>0.0</td>\n",
       "      <td>0.0</td>\n",
       "      <td>0.0</td>\n",
       "      <td>0.0</td>\n",
       "    </tr>\n",
       "    <tr>\n",
       "      <th>163</th>\n",
       "      <td>I</td>\n",
       "      <td>164</td>\n",
       "      <td>0.0</td>\n",
       "      <td>0.0</td>\n",
       "      <td>0.0</td>\n",
       "      <td>0.0</td>\n",
       "      <td>0.0</td>\n",
       "      <td>0.0</td>\n",
       "      <td>0.0</td>\n",
       "      <td>0.0</td>\n",
       "      <td>0.0</td>\n",
       "      <td>0.0</td>\n",
       "    </tr>\n",
       "    <tr>\n",
       "      <th>164</th>\n",
       "      <td>J</td>\n",
       "      <td>165</td>\n",
       "      <td>0.0</td>\n",
       "      <td>0.0</td>\n",
       "      <td>0.0</td>\n",
       "      <td>0.0</td>\n",
       "      <td>0.0</td>\n",
       "      <td>0.0</td>\n",
       "      <td>0.0</td>\n",
       "      <td>0.0</td>\n",
       "      <td>0.0</td>\n",
       "      <td>0.0</td>\n",
       "    </tr>\n",
       "    <tr>\n",
       "      <th>165</th>\n",
       "      <td>K</td>\n",
       "      <td>166</td>\n",
       "      <td>0.0</td>\n",
       "      <td>0.0</td>\n",
       "      <td>0.0</td>\n",
       "      <td>0.0</td>\n",
       "      <td>0.0</td>\n",
       "      <td>0.0</td>\n",
       "      <td>0.0</td>\n",
       "      <td>0.0</td>\n",
       "      <td>0.0</td>\n",
       "      <td>0.0</td>\n",
       "    </tr>\n",
       "    <tr>\n",
       "      <th>166</th>\n",
       "      <td>L</td>\n",
       "      <td>167</td>\n",
       "      <td>0.0</td>\n",
       "      <td>0.0</td>\n",
       "      <td>0.0</td>\n",
       "      <td>0.0</td>\n",
       "      <td>0.0</td>\n",
       "      <td>0.0</td>\n",
       "      <td>0.0</td>\n",
       "      <td>0.0</td>\n",
       "      <td>0.0</td>\n",
       "      <td>0.0</td>\n",
       "    </tr>\n",
       "  </tbody>\n",
       "</table>\n",
       "</div>"
      ],
      "text/plain": [
       "    country  rank  score  high  low  gdp  family  lifexp  freedom  generosity  \\\n",
       "162       H   163    0.0   0.0  0.0  0.0     0.0     0.0      0.0         0.0   \n",
       "163       I   164    0.0   0.0  0.0  0.0     0.0     0.0      0.0         0.0   \n",
       "164       J   165    0.0   0.0  0.0  0.0     0.0     0.0      0.0         0.0   \n",
       "165       K   166    0.0   0.0  0.0  0.0     0.0     0.0      0.0         0.0   \n",
       "166       L   167    0.0   0.0  0.0  0.0     0.0     0.0      0.0         0.0   \n",
       "\n",
       "     corruption  dystopia  \n",
       "162         0.0       0.0  \n",
       "163         0.0       0.0  \n",
       "164         0.0       0.0  \n",
       "165         0.0       0.0  \n",
       "166         0.0       0.0  "
      ]
     },
     "execution_count": 81,
     "metadata": {},
     "output_type": "execute_result"
    }
   ],
   "source": [
    "dataset = pd.read_csv('./RegresionRobusta/data/felicidad_corrupt.csv')\n",
    "dataset.tail()"
   ]
  },
  {
   "cell_type": "code",
   "execution_count": 82,
   "id": "bd5513aa-fb5d-4dc4-b9c8-313399da2397",
   "metadata": {},
   "outputs": [],
   "source": [
    "# Elegimos los feature con los que vamos a trabajar haciendo drop a las que no queremos\n",
    "X = dataset.drop(['country', 'score'], axis=1)\n",
    "y = dataset['score']\n",
    "# Hacemos la partición\n",
    "X_train, X_test, y_train, y_test = train_test_split(X, y, test_size=0.30, random_state=42)"
   ]
  },
  {
   "cell_type": "code",
   "execution_count": 84,
   "id": "d3cd5929-09b7-479e-9565-7cc9249488f9",
   "metadata": {},
   "outputs": [],
   "source": [
    "# Guardamos todos los estimadores dentro de un diccionario\n",
    "## RANSAC no es un estimador es un metaestimado, donde podemos usar varios estimadores en el\n",
    "## pero en este caso lo vamos a dejar sin parámetros lo que por defecto es una regresión lineal\n",
    "estimadores = { 'SVR'    : SVR(gamma='auto', C=1.0, epsilon=0.1),\n",
    "                'RANSAC' : RANSACRegressor(),\n",
    "                'HUBBER' : HuberRegressor(epsilon=1.35)}"
   ]
  },
  {
   "cell_type": "code",
   "execution_count": 85,
   "id": "a655b594-f63b-4fad-9cd9-c68a22ee47fe",
   "metadata": {},
   "outputs": [
    {
     "name": "stdout",
     "output_type": "stream",
     "text": [
      "================================================================================\n",
      "SVR\n",
      "MSE:  0.07455771301888525\n",
      "================================================================================\n",
      "RANSAC\n",
      "MSE:  1.2756405701033106e-19\n",
      "================================================================================\n",
      "HUBBER\n",
      "MSE:  2.317373092927481e-06\n"
     ]
    },
    {
     "name": "stderr",
     "output_type": "stream",
     "text": [
      "C:\\Users\\Marco\\.conda\\envs\\mlenv\\lib\\site-packages\\sklearn\\linear_model\\_huber.py:342: ConvergenceWarning: lbfgs failed to converge (status=1):\n",
      "STOP: TOTAL NO. of ITERATIONS REACHED LIMIT.\n",
      "\n",
      "Increase the number of iterations (max_iter) or scale the data as shown in:\n",
      "    https://scikit-learn.org/stable/modules/preprocessing.html\n",
      "  self.n_iter_ = _check_optimize_result(\"lbfgs\", opt_res, self.max_iter)\n"
     ]
    }
   ],
   "source": [
    "for name, estimador in estimadores.items():\n",
    "    estimador.fit(X_train, y_train)\n",
    "    predictions = estimador.predict(X_test)\n",
    "    print('='*80)\n",
    "    print(name)\n",
    "    print('MSE: ', mean_squared_error(y_test, predictions))"
   ]
  },
  {
   "cell_type": "markdown",
   "id": "bd241c1a-655c-477e-8c54-8d90322032c8",
   "metadata": {},
   "source": [
    "RANSAC y HUBBER tienen errore muchos mas bajos que SVR, lo que nos muestra que los valores atípicos sí tienen un efecto en nuestro resultado final."
   ]
  },
  {
   "cell_type": "markdown",
   "id": "9f872dd3-0c6c-4eb8-be2d-781824622f34",
   "metadata": {},
   "source": [
    "## Métodos de ensamble\n",
    "\n",
    "Funcionan muy bien cuando queremos usar varios estimadores y llegar a una única conclusión. Es decir, se prueban distintos algorítmos con distintas configuraciones y se aplica un método para lograr un consenso entre los resultados.\n",
    "\n",
    "Dos estrategias:\n",
    "\n",
    "* **Bagging**: viene de Bootstrap Aggregation y consiste en tener en paralelo varios modelos, cada uno con un resultado y que por algún método de consenso tome un resultado final. Ejemplos de métodos de consenso son: votación, random Forest, o cualquier familia de modelos de ML.\n",
    "* **Boosting**: busca fortalecer gradualmente un modelo de aprendizaje usando siempre el error residual de las etapas anteriores. Son ejemplo de esto: AdaBoost, Gradient Tree Boosting y XSBoost."
   ]
  },
  {
   "cell_type": "markdown",
   "id": "5db1a424-b8f1-42ed-a61c-e2761c428c4d",
   "metadata": {},
   "source": [
    "### Bagging"
   ]
  },
  {
   "cell_type": "code",
   "execution_count": 3,
   "id": "740c3d0c-ada6-41d2-a2d3-dd6b78bf99ef",
   "metadata": {},
   "outputs": [],
   "source": [
    "from sklearn.neighbors import KNeighborsClassifier\n",
    "from sklearn. ensemble import BaggingClassifier\n",
    "\n",
    "from sklearn.model_selection import train_test_split\n",
    "from sklearn.metrics import accuracy_score"
   ]
  },
  {
   "cell_type": "code",
   "execution_count": 4,
   "id": "ea46d369-0fe3-4662-bcc2-e51b81fc4fba",
   "metadata": {},
   "outputs": [],
   "source": [
    "dt_heart = pd.read_csv('./datasets/heart.csv')"
   ]
  },
  {
   "cell_type": "code",
   "execution_count": 5,
   "id": "88f7ee30-f977-4104-beee-d7eb05e0d166",
   "metadata": {},
   "outputs": [
    {
     "data": {
      "text/plain": [
       "count    1025.000000\n",
       "mean        0.513171\n",
       "std         0.500070\n",
       "min         0.000000\n",
       "25%         0.000000\n",
       "50%         1.000000\n",
       "75%         1.000000\n",
       "max         1.000000\n",
       "Name: target, dtype: float64"
      ]
     },
     "execution_count": 5,
     "metadata": {},
     "output_type": "execute_result"
    }
   ],
   "source": [
    "# Las estadísticas nos muestran que la columna se compone de 0 y 1 solamente.\n",
    "dt_heart['target'].describe()"
   ]
  },
  {
   "cell_type": "code",
   "execution_count": 7,
   "id": "a183c499-3359-4beb-81d3-98449d8e53f9",
   "metadata": {},
   "outputs": [],
   "source": [
    "# Elegimos los feature con los que vamos a trabajar haciendo drop a las que no queremos\n",
    "X = dt_heart.drop(['target'], axis=1)\n",
    "y = dt_heart['target']\n",
    "# Hacemos la partición\n",
    "X_train, X_test, y_train, y_test = train_test_split(X, y, test_size=0.35, random_state=42)"
   ]
  },
  {
   "cell_type": "code",
   "execution_count": 9,
   "id": "e8eee784-6234-410a-b348-ea0040e11c1f",
   "metadata": {},
   "outputs": [
    {
     "name": "stdout",
     "output_type": "stream",
     "text": [
      "Accuracy score:  0.6908077994428969\n"
     ]
    }
   ],
   "source": [
    "# Vamos a usar un clasificador knn y lo vamos a guardar en una variable\n",
    "knn_class = KNeighborsClassifier().fit(X_train, y_train) #entrenamos y ajustamos\n",
    "knn_pred = knn_class.predict(X_test) # predecimos\n",
    "print('Accuracy score: ', accuracy_score(knn_pred, y_test)) # calculamos la metrica"
   ]
  },
  {
   "cell_type": "code",
   "execution_count": 10,
   "id": "e09011b9-98ad-4f78-a0de-e31a5faa834d",
   "metadata": {},
   "outputs": [
    {
     "name": "stderr",
     "output_type": "stream",
     "text": [
      "C:\\Users\\Marco\\.conda\\envs\\mlenv\\lib\\site-packages\\sklearn\\ensemble\\_base.py:166: FutureWarning: `base_estimator` was renamed to `estimator` in version 1.2 and will be removed in 1.4.\n",
      "  warnings.warn(\n"
     ]
    },
    {
     "name": "stdout",
     "output_type": "stream",
     "text": [
      "Accuracy score:  0.724233983286908\n"
     ]
    }
   ],
   "source": [
    "# Vamos a comparar el método anterior con el de Bagging\n",
    "# Este metaclasificador nos va a pedir parámetros para configurarlo\n",
    "# base_estimator: es en qué estimador esta basado nuestro método\n",
    "# n_estimators: la cantidad de estimadores, cuantos de estos modelos vamos a usar\n",
    "\n",
    "bag_class = BaggingClassifier(base_estimator=KNeighborsClassifier(),\n",
    "                             n_estimators=50).fit(X_train, y_train)\n",
    "bag_pred = bag_class.predict(X_test) # predecimos\n",
    "print('Accuracy score: ', accuracy_score(bag_pred, y_test)) # calculamos la metrica"
   ]
  },
  {
   "cell_type": "markdown",
   "id": "3e3f52f7-3e14-4c73-ab2d-1b71c10d4bfa",
   "metadata": {},
   "source": [
    "Aún cuando no teníamos un modelo muy bueno, vemos que usando los métodos de ensamble llegamos a mejores resultados.\n",
    "Por otro lado, muchas veces un modelo por sí solo no es tan poderoso, que si ese mismo modelo muchas veces con diferentes configuraciones y parámetros y un método de conceso aplicado."
   ]
  },
  {
   "cell_type": "code",
   "execution_count": 12,
   "id": "5ca4f0ae-f5dc-4bb9-9f0a-1b88f599d37a",
   "metadata": {},
   "outputs": [],
   "source": [
    "#Importo otros modelos\n",
    "from sklearn.linear_model import LogisticRegression\n",
    "from sklearn.svm import SVC\n",
    "from sklearn.svm import LinearSVC\n",
    "from sklearn.linear_model import SGDClassifier\n",
    "from sklearn.tree import DecisionTreeClassifier\n",
    "from sklearn.ensemble import RandomForestClassifier"
   ]
  },
  {
   "cell_type": "code",
   "execution_count": 14,
   "id": "bc862f22-e9f2-4cda-8982-be3afd31872a",
   "metadata": {},
   "outputs": [],
   "source": [
    "#Para ignorar los warning\n",
    "import warnings\n",
    "warnings.filterwarnings(\"ignore\")"
   ]
  },
  {
   "cell_type": "code",
   "execution_count": 20,
   "id": "6b4651b4-3955-40fb-ae1a-6a2b7d521353",
   "metadata": {},
   "outputs": [
    {
     "name": "stdout",
     "output_type": "stream",
     "text": [
      "================================================================================\n",
      "SCORE Bagging with LogisticRegression : 0.7994428969359332\n",
      "================================================================================\n",
      "SCORE Bagging with SVC : 0.6657381615598886\n",
      "================================================================================\n",
      "SCORE Bagging with LinearSVC : 0.8105849582172702\n",
      "================================================================================\n",
      "SCORE Bagging with SGD : 0.6824512534818942\n",
      "================================================================================\n",
      "SCORE Bagging with KNN : 0.7353760445682451\n",
      "================================================================================\n",
      "SCORE Bagging with DecisionTreeClf : 0.9749303621169917\n",
      "================================================================================\n",
      "SCORE Bagging with RandomTreeForest : 0.9832869080779945\n"
     ]
    }
   ],
   "source": [
    "#Para probar varios estimadores\n",
    "estimators = {\n",
    "        'LogisticRegression' : LogisticRegression(),\n",
    "        'SVC' : SVC(),\n",
    "        'LinearSVC' : LinearSVC(),\n",
    "        'SGD' : SGDClassifier(loss=\"hinge\", penalty=\"l2\", max_iter=5),\n",
    "        'KNN' : KNeighborsClassifier(),\n",
    "        'DecisionTreeClf' : DecisionTreeClassifier(),\n",
    "        'RandomTreeForest' : RandomForestClassifier(random_state=0)\n",
    "    }\n",
    "\n",
    "# Creo un diccionario para graficar los resultados luego\n",
    "accuracy_scores = {}\n",
    "\n",
    "for name, estimator in estimators.items():\n",
    "    bag_class = BaggingClassifier(base_estimator=estimator, n_estimators=50).fit(X_train, y_train)\n",
    "    bag_predict = bag_class.predict(X_test)\n",
    "    accuracy_scores[name] = accuracy_score(bag_predict, y_test) #aca es donde guardo los resultados\n",
    "    print('='*80)\n",
    "    print('SCORE Bagging with {} : {}'.format(name, accuracy_score(bag_predict, y_test)))"
   ]
  },
  {
   "cell_type": "code",
   "execution_count": 22,
   "id": "e3f540b2-b19c-40ec-a512-1bc3cb122ca5",
   "metadata": {},
   "outputs": [
    {
     "data": {
      "image/png": "[encoded data removed]",
      "text/plain": [
       "<Figure size 432x288 with 1 Axes>"
      ]
     },
     "metadata": {
      "needs_background": "light"
     },
     "output_type": "display_data"
    }
   ],
   "source": [
    "import matplotlib.pyplot as plt\n",
    "\n",
    "# Encontrar el valor máximo de exactitud\n",
    "max_accuracy = max(accuracy_scores.values())\n",
    "\n",
    "plt.bar(range(len(accuracy_scores)), list(accuracy_scores.values()), \n",
    "                                            align='center', \n",
    "                                            # Color elige que sea verde el valor máximo\n",
    "                                            color=['green' if v == max_accuracy else 'blue' for v in accuracy_scores.values()])\n",
    "plt.xticks(rotation=45) # Rotar las etiquetas en un ángulo de 45 grados\n",
    "plt.xticks(range(len(accuracy_scores)), list(accuracy_scores.keys()))\n",
    "plt.xlabel('Algoritmos')\n",
    "plt.ylabel('Exactitud')\n",
    "plt.title('Exactitud obtenida por diferentes algoritmos de clasificación')\n",
    "plt.show()"
   ]
  },
  {
   "cell_type": "markdown",
   "id": "4ec9c068-f97e-468e-9818-5fd79a8eb1d4",
   "metadata": {},
   "source": [
    "### Boosting"
   ]
  },
  {
   "cell_type": "code",
   "execution_count": 25,
   "id": "63cad7f0-6d31-4555-8f6f-8066de03c870",
   "metadata": {},
   "outputs": [
    {
     "name": "stdout",
     "output_type": "stream",
     "text": [
      "Accuracy score:  0.935933147632312\n"
     ]
    }
   ],
   "source": [
    "from sklearn.ensemble import GradientBoostingClassifier\n",
    "\n",
    "dt_heart = pd.read_csv('./datasets/heart.csv')\n",
    "X = dt_heart.drop(['target'], axis=1)\n",
    "y = dt_heart['target']\n",
    "X_train, X_test, y_train, y_test = train_test_split(X, y, test_size=0.35, random_state=42)\n",
    "\n",
    "#Definimos nuestro clasificador\n",
    "#n_estimators: cuántos árboles vamos a usar para clasificar nuestro modelo\n",
    "\n",
    "# Lo que hace Boostin es construir árboles muy pequeños con muy poca profundidad\n",
    "# y pocas hojas y va intentar entrenarlos uno detrás de otro para lograr un resultado óptimo\n",
    "# que nos de la clasificación\n",
    "boost = GradientBoostingClassifier(n_estimators=50).fit(X_train, y_train)\n",
    "boost_pred = boost.predict(X_test)\n",
    "print('Accuracy score: ', accuracy_score(boost_pred, y_test)) # calculamos la metrica"
   ]
  },
  {
   "cell_type": "code",
   "execution_count": 29,
   "id": "af8d4d01-dbf9-4c65-b7e4-0e19487b3874",
   "metadata": {},
   "outputs": [
    {
     "name": "stdout",
     "output_type": "stream",
     "text": [
      "{'result': 0.9916434540389972, 'n_estimator': 260}\n"
     ]
    }
   ],
   "source": [
    "# Para estimar el mejor n_estimators\n",
    "estimators = range(10, 300, 10)\n",
    "total_accuracy = []\n",
    "best_result = {'result' : 0, 'n_estimator': 1}\n",
    "\n",
    "for i in estimators:\n",
    "    boost = GradientBoostingClassifier(n_estimators=i).fit(X_train, y_train)\n",
    "    boost_pred = boost.predict(X_test)\n",
    "    new_accuracy = accuracy_score(boost_pred, y_test)\n",
    "    total_accuracy.append(new_accuracy)\n",
    "    if new_accuracy > best_result['result']: \n",
    "        best_result['result'] = new_accuracy\n",
    "        best_result['n_estimator'] = i\n",
    "\n",
    "print(best_result)"
   ]
  },
  {
   "cell_type": "markdown",
   "id": "fb18f3be-c52e-49a6-9233-36bc6a537641",
   "metadata": {},
   "source": [
    "## Estrategias de clustering\n",
    "\n",
    "Son estrategias de aprendizaje no suprvisado para agrupar los datos de manera que todos los datos pertenecientes a un grupo sean lo mas similares entre sí y los mas lejanos los mas diferentes entre sí.\n",
    "\n",
    "Dos escenarios de aplicación:\n",
    "\n",
    "* Cuando sabemos la cantidad de grupos que queremos\n",
    "* Cuando no sabemos la cantidad de grupos que queremos"
   ]
  },
  {
   "cell_type": "markdown",
   "id": "f055838a-a68a-417d-81c7-7a58a4f00728",
   "metadata": {},
   "source": [
    "### Cuando sabemos la cantidad de \"k\" con las que agrupar\n",
    "Supangamos que trabajamos en una tienda de caramelos y queremos organizar todos los caramelos en 4 estantes, donde cada estante tenga caramelos con caracteristicas similares."
   ]
  },
  {
   "cell_type": "code",
   "execution_count": 32,
   "id": "7cf5208b-dd1a-4872-a2ed-9237d7059713",
   "metadata": {},
   "outputs": [],
   "source": [
    "import pandas as pd\n",
    "from sklearn.cluster import MiniBatchKMeans #Igual que Kmean pero consume menos recursos"
   ]
  },
  {
   "cell_type": "code",
   "execution_count": 34,
   "id": "90ab0fa6-0a3c-43cb-910f-9255f49f2207",
   "metadata": {
    "collapsed": true,
    "jupyter": {
     "outputs_hidden": true
    },
    "tags": []
   },
   "outputs": [
    {
     "data": {
      "text/html": [
       "<div>\n",
       "<style scoped>\n",
       "    .dataframe tbody tr th:only-of-type {\n",
       "        vertical-align: middle;\n",
       "    }\n",
       "\n",
       "    .dataframe tbody tr th {\n",
       "        vertical-align: top;\n",
       "    }\n",
       "\n",
       "    .dataframe thead th {\n",
       "        text-align: right;\n",
       "    }\n",
       "</style>\n",
       "<table border=\"1\" class=\"dataframe\">\n",
       "  <thead>\n",
       "    <tr style=\"text-align: right;\">\n",
       "      <th></th>\n",
       "      <th>competitorname</th>\n",
       "      <th>chocolate</th>\n",
       "      <th>fruity</th>\n",
       "      <th>caramel</th>\n",
       "      <th>peanutyalmondy</th>\n",
       "      <th>nougat</th>\n",
       "      <th>crispedricewafer</th>\n",
       "      <th>hard</th>\n",
       "      <th>bar</th>\n",
       "      <th>pluribus</th>\n",
       "      <th>sugarpercent</th>\n",
       "      <th>pricepercent</th>\n",
       "      <th>winpercent</th>\n",
       "    </tr>\n",
       "  </thead>\n",
       "  <tbody>\n",
       "    <tr>\n",
       "      <th>0</th>\n",
       "      <td>100 Grand</td>\n",
       "      <td>1</td>\n",
       "      <td>0</td>\n",
       "      <td>1</td>\n",
       "      <td>0</td>\n",
       "      <td>0</td>\n",
       "      <td>1</td>\n",
       "      <td>0</td>\n",
       "      <td>1</td>\n",
       "      <td>0</td>\n",
       "      <td>0.732</td>\n",
       "      <td>0.860</td>\n",
       "      <td>66.971725</td>\n",
       "    </tr>\n",
       "    <tr>\n",
       "      <th>1</th>\n",
       "      <td>3 Musketeers</td>\n",
       "      <td>1</td>\n",
       "      <td>0</td>\n",
       "      <td>0</td>\n",
       "      <td>0</td>\n",
       "      <td>1</td>\n",
       "      <td>0</td>\n",
       "      <td>0</td>\n",
       "      <td>1</td>\n",
       "      <td>0</td>\n",
       "      <td>0.604</td>\n",
       "      <td>0.511</td>\n",
       "      <td>67.602936</td>\n",
       "    </tr>\n",
       "    <tr>\n",
       "      <th>2</th>\n",
       "      <td>One dime</td>\n",
       "      <td>0</td>\n",
       "      <td>0</td>\n",
       "      <td>0</td>\n",
       "      <td>0</td>\n",
       "      <td>0</td>\n",
       "      <td>0</td>\n",
       "      <td>0</td>\n",
       "      <td>0</td>\n",
       "      <td>0</td>\n",
       "      <td>0.011</td>\n",
       "      <td>0.116</td>\n",
       "      <td>32.261086</td>\n",
       "    </tr>\n",
       "    <tr>\n",
       "      <th>3</th>\n",
       "      <td>One quarter</td>\n",
       "      <td>0</td>\n",
       "      <td>0</td>\n",
       "      <td>0</td>\n",
       "      <td>0</td>\n",
       "      <td>0</td>\n",
       "      <td>0</td>\n",
       "      <td>0</td>\n",
       "      <td>0</td>\n",
       "      <td>0</td>\n",
       "      <td>0.011</td>\n",
       "      <td>0.511</td>\n",
       "      <td>46.116505</td>\n",
       "    </tr>\n",
       "    <tr>\n",
       "      <th>4</th>\n",
       "      <td>Air Heads</td>\n",
       "      <td>0</td>\n",
       "      <td>1</td>\n",
       "      <td>0</td>\n",
       "      <td>0</td>\n",
       "      <td>0</td>\n",
       "      <td>0</td>\n",
       "      <td>0</td>\n",
       "      <td>0</td>\n",
       "      <td>0</td>\n",
       "      <td>0.906</td>\n",
       "      <td>0.511</td>\n",
       "      <td>52.341465</td>\n",
       "    </tr>\n",
       "  </tbody>\n",
       "</table>\n",
       "</div>"
      ],
      "text/plain": [
       "  competitorname  chocolate  fruity  caramel  peanutyalmondy  nougat  \\\n",
       "0      100 Grand          1       0        1               0       0   \n",
       "1   3 Musketeers          1       0        0               0       1   \n",
       "2       One dime          0       0        0               0       0   \n",
       "3    One quarter          0       0        0               0       0   \n",
       "4      Air Heads          0       1        0               0       0   \n",
       "\n",
       "   crispedricewafer  hard  bar  pluribus  sugarpercent  pricepercent  \\\n",
       "0                 1     0    1         0         0.732         0.860   \n",
       "1                 0     0    1         0         0.604         0.511   \n",
       "2                 0     0    0         0         0.011         0.116   \n",
       "3                 0     0    0         0         0.011         0.511   \n",
       "4                 0     0    0         0         0.906         0.511   \n",
       "\n",
       "   winpercent  \n",
       "0   66.971725  \n",
       "1   67.602936  \n",
       "2   32.261086  \n",
       "3   46.116505  \n",
       "4   52.341465  "
      ]
     },
     "execution_count": 34,
     "metadata": {},
     "output_type": "execute_result"
    }
   ],
   "source": [
    "dataset = pd.read_csv('./datasets/candy.csv')\n",
    "dataset.head()"
   ]
  },
  {
   "cell_type": "code",
   "execution_count": 35,
   "id": "4b617cf3-b23b-418a-9156-fdf44c93164e",
   "metadata": {},
   "outputs": [],
   "source": [
    "# como es un algoritmo no supervisado no tenemos que partir en train/test\n",
    "# vamos a usar todos los datos juntos\n",
    "\n",
    "# Guardamos en una variable todos los datos menos la columna con el nombre del caramelo\n",
    "X = dataset.drop('competitorname', axis=1)"
   ]
  },
  {
   "cell_type": "code",
   "execution_count": 36,
   "id": "ea7a9d1b-5c77-46b3-b5d7-323785147632",
   "metadata": {},
   "outputs": [
    {
     "name": "stdout",
     "output_type": "stream",
     "text": [
      "Total de centros:  4\n",
      "Etiquetas:  [1 1 2 0 3 0 3 2 2 2 2 2 2 0 2 0 2 0 3 2 3 0 3 3 3 3 2 3 1 0 2 3 1 1 0 3 1\n",
      " 3 1 0 3 3 1 1 2 2 0 1 2 0 2 1 1 1 1 2 1 2 0 2 3 3 2 0 1 3 3 3 1 2 2 2 2 3\n",
      " 0 0 0 0 0 1 0 2 0 0 0]\n"
     ]
    }
   ],
   "source": [
    "# Guardamos nuestro modelo en una variable y configuramos\n",
    "# n_clusters= me dice la cantidad de cluster que yo quiero\n",
    "# batch_size= definimos la cantiad de datos que van a ir pasando por el algoritmo por cada batch\n",
    "kmeans = MiniBatchKMeans(n_clusters=4, batch_size=8).fit(X)\n",
    "\n",
    "#Es un valor que devuelve automáticamente el modelo donde nos dice la cantidad de cluster que va a usar\n",
    "print('Total de centros: ', len(kmeans.cluster_centers_)) \n",
    "# Vamos a ver con qué etiqueta va a imprimir cada grupo\n",
    "# Me devuelve un arreglo con la etiqueta que le dio a cada caramelo en orden como estan en el dataset\n",
    "print('Etiquetas: ', kmeans.predict(X))"
   ]
  },
  {
   "cell_type": "code",
   "execution_count": 37,
   "id": "b9755352-29fc-44dd-985c-5014c24354b6",
   "metadata": {},
   "outputs": [],
   "source": [
    "#El arreglo de etiquetas así como esta no es muy útil\n",
    "# Lo que podemos hacer es pegar ese arreglo al conjunto de datos original\n",
    "\n",
    "#Creamos una nueva columna en el conjunto de datos original\n",
    "# y le decimos los datos que queremos pegar, en este caso las predicciones\n",
    "dataset['group'] = kmeans.predict(X)"
   ]
  },
  {
   "cell_type": "code",
   "execution_count": 39,
   "id": "6109d3cb-57ca-4b56-842f-571a44e508b5",
   "metadata": {
    "collapsed": true,
    "jupyter": {
     "outputs_hidden": true
    },
    "tags": []
   },
   "outputs": [
    {
     "data": {
      "text/html": [
       "<div>\n",
       "<style scoped>\n",
       "    .dataframe tbody tr th:only-of-type {\n",
       "        vertical-align: middle;\n",
       "    }\n",
       "\n",
       "    .dataframe tbody tr th {\n",
       "        vertical-align: top;\n",
       "    }\n",
       "\n",
       "    .dataframe thead th {\n",
       "        text-align: right;\n",
       "    }\n",
       "</style>\n",
       "<table border=\"1\" class=\"dataframe\">\n",
       "  <thead>\n",
       "    <tr style=\"text-align: right;\">\n",
       "      <th></th>\n",
       "      <th>competitorname</th>\n",
       "      <th>chocolate</th>\n",
       "      <th>fruity</th>\n",
       "      <th>caramel</th>\n",
       "      <th>peanutyalmondy</th>\n",
       "      <th>nougat</th>\n",
       "      <th>crispedricewafer</th>\n",
       "      <th>hard</th>\n",
       "      <th>bar</th>\n",
       "      <th>pluribus</th>\n",
       "      <th>sugarpercent</th>\n",
       "      <th>pricepercent</th>\n",
       "      <th>winpercent</th>\n",
       "      <th>group</th>\n",
       "    </tr>\n",
       "  </thead>\n",
       "  <tbody>\n",
       "    <tr>\n",
       "      <th>0</th>\n",
       "      <td>100 Grand</td>\n",
       "      <td>1</td>\n",
       "      <td>0</td>\n",
       "      <td>1</td>\n",
       "      <td>0</td>\n",
       "      <td>0</td>\n",
       "      <td>1</td>\n",
       "      <td>0</td>\n",
       "      <td>1</td>\n",
       "      <td>0</td>\n",
       "      <td>0.732</td>\n",
       "      <td>0.860</td>\n",
       "      <td>66.971725</td>\n",
       "      <td>1</td>\n",
       "    </tr>\n",
       "    <tr>\n",
       "      <th>1</th>\n",
       "      <td>3 Musketeers</td>\n",
       "      <td>1</td>\n",
       "      <td>0</td>\n",
       "      <td>0</td>\n",
       "      <td>0</td>\n",
       "      <td>1</td>\n",
       "      <td>0</td>\n",
       "      <td>0</td>\n",
       "      <td>1</td>\n",
       "      <td>0</td>\n",
       "      <td>0.604</td>\n",
       "      <td>0.511</td>\n",
       "      <td>67.602936</td>\n",
       "      <td>1</td>\n",
       "    </tr>\n",
       "    <tr>\n",
       "      <th>2</th>\n",
       "      <td>One dime</td>\n",
       "      <td>0</td>\n",
       "      <td>0</td>\n",
       "      <td>0</td>\n",
       "      <td>0</td>\n",
       "      <td>0</td>\n",
       "      <td>0</td>\n",
       "      <td>0</td>\n",
       "      <td>0</td>\n",
       "      <td>0</td>\n",
       "      <td>0.011</td>\n",
       "      <td>0.116</td>\n",
       "      <td>32.261086</td>\n",
       "      <td>2</td>\n",
       "    </tr>\n",
       "    <tr>\n",
       "      <th>3</th>\n",
       "      <td>One quarter</td>\n",
       "      <td>0</td>\n",
       "      <td>0</td>\n",
       "      <td>0</td>\n",
       "      <td>0</td>\n",
       "      <td>0</td>\n",
       "      <td>0</td>\n",
       "      <td>0</td>\n",
       "      <td>0</td>\n",
       "      <td>0</td>\n",
       "      <td>0.011</td>\n",
       "      <td>0.511</td>\n",
       "      <td>46.116505</td>\n",
       "      <td>0</td>\n",
       "    </tr>\n",
       "    <tr>\n",
       "      <th>4</th>\n",
       "      <td>Air Heads</td>\n",
       "      <td>0</td>\n",
       "      <td>1</td>\n",
       "      <td>0</td>\n",
       "      <td>0</td>\n",
       "      <td>0</td>\n",
       "      <td>0</td>\n",
       "      <td>0</td>\n",
       "      <td>0</td>\n",
       "      <td>0</td>\n",
       "      <td>0.906</td>\n",
       "      <td>0.511</td>\n",
       "      <td>52.341465</td>\n",
       "      <td>3</td>\n",
       "    </tr>\n",
       "  </tbody>\n",
       "</table>\n",
       "</div>"
      ],
      "text/plain": [
       "  competitorname  chocolate  fruity  caramel  peanutyalmondy  nougat  \\\n",
       "0      100 Grand          1       0        1               0       0   \n",
       "1   3 Musketeers          1       0        0               0       1   \n",
       "2       One dime          0       0        0               0       0   \n",
       "3    One quarter          0       0        0               0       0   \n",
       "4      Air Heads          0       1        0               0       0   \n",
       "\n",
       "   crispedricewafer  hard  bar  pluribus  sugarpercent  pricepercent  \\\n",
       "0                 1     0    1         0         0.732         0.860   \n",
       "1                 0     0    1         0         0.604         0.511   \n",
       "2                 0     0    0         0         0.011         0.116   \n",
       "3                 0     0    0         0         0.011         0.511   \n",
       "4                 0     0    0         0         0.906         0.511   \n",
       "\n",
       "   winpercent  group  \n",
       "0   66.971725      1  \n",
       "1   67.602936      1  \n",
       "2   32.261086      2  \n",
       "3   46.116505      0  \n",
       "4   52.341465      3  "
      ]
     },
     "execution_count": 39,
     "metadata": {},
     "output_type": "execute_result"
    }
   ],
   "source": [
    "dataset.head(5)"
   ]
  },
  {
   "cell_type": "code",
   "execution_count": 44,
   "id": "5397202e-dd63-4704-a69a-5c684c8cef9a",
   "metadata": {
    "collapsed": true,
    "jupyter": {
     "outputs_hidden": true
    },
    "tags": []
   },
   "outputs": [
    {
     "name": "stdout",
     "output_type": "stream",
     "text": [
      "Collecting seabornNote: you may need to restart the kernel to use updated packages.\n",
      "  Downloading seaborn-0.12.2-py3-none-any.whl (293 kB)\n",
      "     ------------------------------------ 293.3/293.3 kB 533.0 kB/s eta 0:00:00\n",
      "Requirement already satisfied: numpy!=1.24.0,>=1.17 in c:\\users\\marco\\.conda\\envs\\mlenv\\lib\\site-packages (from seaborn) (1.21.5)\n",
      "Requirement already satisfied: matplotlib!=3.6.1,>=3.1 in c:\\users\\marco\\.conda\\envs\\mlenv\\lib\\site-packages (from seaborn) (3.5.1)\n",
      "Requirement already satisfied: pandas>=0.25 in c:\\users\\marco\\.conda\\envs\\mlenv\\lib\\site-packages (from seaborn) (1.4.3)\n",
      "Requirement already satisfied: pyparsing>=2.2.1 in c:\\users\\marco\\.conda\\envs\\mlenv\\lib\\site-packages (from matplotlib!=3.6.1,>=3.1->seaborn) (3.0.4)\n",
      "Requirement already satisfied: pillow>=6.2.0 in c:\\users\\marco\\.conda\\envs\\mlenv\\lib\\site-packages (from matplotlib!=3.6.1,>=3.1->seaborn) (9.2.0)\n",
      "Requirement already satisfied: packaging>=20.0 in c:\\users\\marco\\.conda\\envs\\mlenv\\lib\\site-packages (from matplotlib!=3.6.1,>=3.1->seaborn) (21.3)\n",
      "Requirement already satisfied: cycler>=0.10 in c:\\users\\marco\\.conda\\envs\\mlenv\\lib\\site-packages (from matplotlib!=3.6.1,>=3.1->seaborn) (0.11.0)\n",
      "Requirement already satisfied: python-dateutil>=2.7 in c:\\users\\marco\\.conda\\envs\\mlenv\\lib\\site-packages (from matplotlib!=3.6.1,>=3.1->seaborn) (2.8.2)\n",
      "Requirement already satisfied: kiwisolver>=1.0.1 in c:\\users\\marco\\.conda\\envs\\mlenv\\lib\\site-packages (from matplotlib!=3.6.1,>=3.1->seaborn) (1.4.2)\n",
      "Requirement already satisfied: fonttools>=4.22.0 in c:\\users\\marco\\.conda\\envs\\mlenv\\lib\\site-packages (from matplotlib!=3.6.1,>=3.1->seaborn) (4.25.0)\n",
      "Requirement already satisfied: pytz>=2020.1 in c:\\users\\marco\\.conda\\envs\\mlenv\\lib\\site-packages (from pandas>=0.25->seaborn) (2022.1)\n",
      "Requirement already satisfied: six>=1.5 in c:\\users\\marco\\.conda\\envs\\mlenv\\lib\\site-packages (from python-dateutil>=2.7->matplotlib!=3.6.1,>=3.1->seaborn) (1.16.0)\n",
      "Installing collected packages: seaborn\n",
      "Successfully installed seaborn-0.12.2\n",
      "\n",
      "[notice] A new release of pip available: 22.2.2 -> 23.1\n",
      "[notice] To update, run: python.exe -m pip install --upgrade pip\n",
      "\n"
     ]
    }
   ],
   "source": [
    "%pip install seaborn"
   ]
  },
  {
   "cell_type": "code",
   "execution_count": 45,
   "id": "01284b06-4507-49aa-b39d-5b94a7085626",
   "metadata": {},
   "outputs": [
    {
     "data": {
      "text/plain": [
       "<AxesSubplot:xlabel='sugarpercent', ylabel='winpercent'>"
      ]
     },
     "execution_count": 45,
     "metadata": {},
     "output_type": "execute_result"
    },
    {
     "data": {
      "image/png": "[encoded data removed]",
      "text/plain": [
       "<Figure size 432x288 with 1 Axes>"
      ]
     },
     "metadata": {
      "needs_background": "light"
     },
     "output_type": "display_data"
    }
   ],
   "source": [
    "import seaborn as sns\n",
    "sns.scatterplot(data=dataset, \n",
    "                x=\"sugarpercent\", \n",
    "                y=\"winpercent\", \n",
    "                hue=\"group\",\n",
    "                palette=\"deep\")"
   ]
  },
  {
   "cell_type": "markdown",
   "id": "a5157f3c-8331-4ff4-8056-90101836883c",
   "metadata": {},
   "source": [
    "### Cuando queremos que el algoritmo decida la cantidad de \"k\""
   ]
  },
  {
   "cell_type": "code",
   "execution_count": 47,
   "id": "88ddefa1-d8d0-4a19-9994-9bc53492d084",
   "metadata": {},
   "outputs": [],
   "source": [
    "# Meanshift sirve para una cantidad moderada de datos\n",
    "from sklearn.cluster import MeanShift"
   ]
  },
  {
   "cell_type": "code",
   "execution_count": 48,
   "id": "eb0f6b70-e8a8-4898-9cc5-dfa994a1b8c4",
   "metadata": {
    "collapsed": true,
    "jupyter": {
     "outputs_hidden": true
    },
    "tags": []
   },
   "outputs": [
    {
     "data": {
      "text/html": [
       "<div>\n",
       "<style scoped>\n",
       "    .dataframe tbody tr th:only-of-type {\n",
       "        vertical-align: middle;\n",
       "    }\n",
       "\n",
       "    .dataframe tbody tr th {\n",
       "        vertical-align: top;\n",
       "    }\n",
       "\n",
       "    .dataframe thead th {\n",
       "        text-align: right;\n",
       "    }\n",
       "</style>\n",
       "<table border=\"1\" class=\"dataframe\">\n",
       "  <thead>\n",
       "    <tr style=\"text-align: right;\">\n",
       "      <th></th>\n",
       "      <th>competitorname</th>\n",
       "      <th>chocolate</th>\n",
       "      <th>fruity</th>\n",
       "      <th>caramel</th>\n",
       "      <th>peanutyalmondy</th>\n",
       "      <th>nougat</th>\n",
       "      <th>crispedricewafer</th>\n",
       "      <th>hard</th>\n",
       "      <th>bar</th>\n",
       "      <th>pluribus</th>\n",
       "      <th>sugarpercent</th>\n",
       "      <th>pricepercent</th>\n",
       "      <th>winpercent</th>\n",
       "    </tr>\n",
       "  </thead>\n",
       "  <tbody>\n",
       "    <tr>\n",
       "      <th>0</th>\n",
       "      <td>100 Grand</td>\n",
       "      <td>1</td>\n",
       "      <td>0</td>\n",
       "      <td>1</td>\n",
       "      <td>0</td>\n",
       "      <td>0</td>\n",
       "      <td>1</td>\n",
       "      <td>0</td>\n",
       "      <td>1</td>\n",
       "      <td>0</td>\n",
       "      <td>0.732</td>\n",
       "      <td>0.860</td>\n",
       "      <td>66.971725</td>\n",
       "    </tr>\n",
       "    <tr>\n",
       "      <th>1</th>\n",
       "      <td>3 Musketeers</td>\n",
       "      <td>1</td>\n",
       "      <td>0</td>\n",
       "      <td>0</td>\n",
       "      <td>0</td>\n",
       "      <td>1</td>\n",
       "      <td>0</td>\n",
       "      <td>0</td>\n",
       "      <td>1</td>\n",
       "      <td>0</td>\n",
       "      <td>0.604</td>\n",
       "      <td>0.511</td>\n",
       "      <td>67.602936</td>\n",
       "    </tr>\n",
       "    <tr>\n",
       "      <th>2</th>\n",
       "      <td>One dime</td>\n",
       "      <td>0</td>\n",
       "      <td>0</td>\n",
       "      <td>0</td>\n",
       "      <td>0</td>\n",
       "      <td>0</td>\n",
       "      <td>0</td>\n",
       "      <td>0</td>\n",
       "      <td>0</td>\n",
       "      <td>0</td>\n",
       "      <td>0.011</td>\n",
       "      <td>0.116</td>\n",
       "      <td>32.261086</td>\n",
       "    </tr>\n",
       "    <tr>\n",
       "      <th>3</th>\n",
       "      <td>One quarter</td>\n",
       "      <td>0</td>\n",
       "      <td>0</td>\n",
       "      <td>0</td>\n",
       "      <td>0</td>\n",
       "      <td>0</td>\n",
       "      <td>0</td>\n",
       "      <td>0</td>\n",
       "      <td>0</td>\n",
       "      <td>0</td>\n",
       "      <td>0.011</td>\n",
       "      <td>0.511</td>\n",
       "      <td>46.116505</td>\n",
       "    </tr>\n",
       "    <tr>\n",
       "      <th>4</th>\n",
       "      <td>Air Heads</td>\n",
       "      <td>0</td>\n",
       "      <td>1</td>\n",
       "      <td>0</td>\n",
       "      <td>0</td>\n",
       "      <td>0</td>\n",
       "      <td>0</td>\n",
       "      <td>0</td>\n",
       "      <td>0</td>\n",
       "      <td>0</td>\n",
       "      <td>0.906</td>\n",
       "      <td>0.511</td>\n",
       "      <td>52.341465</td>\n",
       "    </tr>\n",
       "  </tbody>\n",
       "</table>\n",
       "</div>"
      ],
      "text/plain": [
       "  competitorname  chocolate  fruity  caramel  peanutyalmondy  nougat  \\\n",
       "0      100 Grand          1       0        1               0       0   \n",
       "1   3 Musketeers          1       0        0               0       1   \n",
       "2       One dime          0       0        0               0       0   \n",
       "3    One quarter          0       0        0               0       0   \n",
       "4      Air Heads          0       1        0               0       0   \n",
       "\n",
       "   crispedricewafer  hard  bar  pluribus  sugarpercent  pricepercent  \\\n",
       "0                 1     0    1         0         0.732         0.860   \n",
       "1                 0     0    1         0         0.604         0.511   \n",
       "2                 0     0    0         0         0.011         0.116   \n",
       "3                 0     0    0         0         0.011         0.511   \n",
       "4                 0     0    0         0         0.906         0.511   \n",
       "\n",
       "   winpercent  \n",
       "0   66.971725  \n",
       "1   67.602936  \n",
       "2   32.261086  \n",
       "3   46.116505  \n",
       "4   52.341465  "
      ]
     },
     "execution_count": 48,
     "metadata": {},
     "output_type": "execute_result"
    }
   ],
   "source": [
    "dataset = pd.read_csv('./datasets/candy.csv')\n",
    "dataset.head()"
   ]
  },
  {
   "cell_type": "code",
   "execution_count": 49,
   "id": "e874fb52-3fd9-46ca-881c-db9d4c8ae3f7",
   "metadata": {},
   "outputs": [
    {
     "name": "stdout",
     "output_type": "stream",
     "text": [
      "Etiquetas:  [2 2 0 0 1 1 1 0 0 0 0 0 0 0 0 0 0 1 1 0 1 0 1 2 1 2 0 1 2 0 0 1 2 2 0 1 2\n",
      " 2 2 1 1 1 2 2 0 0 0 2 0 0 0 2 2 2 2 0 2 0 0 0 2 1 0 0 2 2 2 1 2 0 0 0 0 1\n",
      " 1 0 0 1 1 2 0 0 0 0 1]\n",
      "Mayor valor de etiqueta:  2\n"
     ]
    }
   ],
   "source": [
    "X = dataset.drop('competitorname', axis=1)\n",
    "\n",
    "# Hacemos una variable para guardar el modelo\n",
    "# Para configurarlo, por defecto él usa una ecuación matemática para el ancho de banda\n",
    "\n",
    "meanshift = MeanShift().fit(X)\n",
    "print('Etiquetas: ', meanshift.labels_) #Me muestra el arreglo de etiquetas\n",
    "print('Mayor valor de etiqueta: ', max(meanshift.labels_))"
   ]
  },
  {
   "cell_type": "markdown",
   "id": "835a7d48-a3d5-41ea-bd0c-1140b1be7afa",
   "metadata": {},
   "source": [
    "Como las etiquetas empiezan de cero, entonces podemos ver que son 3 grupos"
   ]
  },
  {
   "cell_type": "code",
   "execution_count": 50,
   "id": "01962c07-6ef5-4598-a1e6-0f01d3a68dfb",
   "metadata": {},
   "outputs": [
    {
     "name": "stdout",
     "output_type": "stream",
     "text": [
      "Ubicación de los centros:  [[2.25000000e-01 5.75000000e-01 1.00000000e-01 2.50000000e-02\n",
      "  5.00000000e-02 2.50000000e-02 3.00000000e-01 1.00000000e-01\n",
      "  5.50000000e-01 4.57599993e-01 3.67824996e-01 4.10442122e+01]\n",
      " [4.68750000e-01 5.00000000e-01 1.25000000e-01 1.56250000e-01\n",
      "  9.37500000e-02 6.25000000e-02 1.25000000e-01 3.12500000e-01\n",
      "  5.31250000e-01 4.57281243e-01 4.67874998e-01 5.21138597e+01]\n",
      " [8.26086957e-01 1.73913043e-01 3.04347826e-01 3.04347826e-01\n",
      "  1.73913043e-01 1.73913043e-01 0.00000000e+00 5.21739130e-01\n",
      "  4.34782609e-01 5.81391293e-01 6.38086963e-01 6.47120799e+01]]\n"
     ]
    }
   ],
   "source": [
    "# La ubicación de los centros que puso sobre los datos\n",
    "print('Ubicación de los centros: ', meanshift.cluster_centers_)"
   ]
  },
  {
   "cell_type": "code",
   "execution_count": 52,
   "id": "b97672d3-d769-4a1e-84ad-22eac10e71ba",
   "metadata": {},
   "outputs": [
    {
     "data": {
      "text/html": [
       "<div>\n",
       "<style scoped>\n",
       "    .dataframe tbody tr th:only-of-type {\n",
       "        vertical-align: middle;\n",
       "    }\n",
       "\n",
       "    .dataframe tbody tr th {\n",
       "        vertical-align: top;\n",
       "    }\n",
       "\n",
       "    .dataframe thead th {\n",
       "        text-align: right;\n",
       "    }\n",
       "</style>\n",
       "<table border=\"1\" class=\"dataframe\">\n",
       "  <thead>\n",
       "    <tr style=\"text-align: right;\">\n",
       "      <th></th>\n",
       "      <th>competitorname</th>\n",
       "      <th>chocolate</th>\n",
       "      <th>fruity</th>\n",
       "      <th>caramel</th>\n",
       "      <th>peanutyalmondy</th>\n",
       "      <th>nougat</th>\n",
       "      <th>crispedricewafer</th>\n",
       "      <th>hard</th>\n",
       "      <th>bar</th>\n",
       "      <th>pluribus</th>\n",
       "      <th>sugarpercent</th>\n",
       "      <th>pricepercent</th>\n",
       "      <th>winpercent</th>\n",
       "      <th>meanshift</th>\n",
       "    </tr>\n",
       "  </thead>\n",
       "  <tbody>\n",
       "    <tr>\n",
       "      <th>0</th>\n",
       "      <td>100 Grand</td>\n",
       "      <td>1</td>\n",
       "      <td>0</td>\n",
       "      <td>1</td>\n",
       "      <td>0</td>\n",
       "      <td>0</td>\n",
       "      <td>1</td>\n",
       "      <td>0</td>\n",
       "      <td>1</td>\n",
       "      <td>0</td>\n",
       "      <td>0.732</td>\n",
       "      <td>0.860</td>\n",
       "      <td>66.971725</td>\n",
       "      <td>2</td>\n",
       "    </tr>\n",
       "    <tr>\n",
       "      <th>1</th>\n",
       "      <td>3 Musketeers</td>\n",
       "      <td>1</td>\n",
       "      <td>0</td>\n",
       "      <td>0</td>\n",
       "      <td>0</td>\n",
       "      <td>1</td>\n",
       "      <td>0</td>\n",
       "      <td>0</td>\n",
       "      <td>1</td>\n",
       "      <td>0</td>\n",
       "      <td>0.604</td>\n",
       "      <td>0.511</td>\n",
       "      <td>67.602936</td>\n",
       "      <td>2</td>\n",
       "    </tr>\n",
       "    <tr>\n",
       "      <th>2</th>\n",
       "      <td>One dime</td>\n",
       "      <td>0</td>\n",
       "      <td>0</td>\n",
       "      <td>0</td>\n",
       "      <td>0</td>\n",
       "      <td>0</td>\n",
       "      <td>0</td>\n",
       "      <td>0</td>\n",
       "      <td>0</td>\n",
       "      <td>0</td>\n",
       "      <td>0.011</td>\n",
       "      <td>0.116</td>\n",
       "      <td>32.261086</td>\n",
       "      <td>0</td>\n",
       "    </tr>\n",
       "    <tr>\n",
       "      <th>3</th>\n",
       "      <td>One quarter</td>\n",
       "      <td>0</td>\n",
       "      <td>0</td>\n",
       "      <td>0</td>\n",
       "      <td>0</td>\n",
       "      <td>0</td>\n",
       "      <td>0</td>\n",
       "      <td>0</td>\n",
       "      <td>0</td>\n",
       "      <td>0</td>\n",
       "      <td>0.011</td>\n",
       "      <td>0.511</td>\n",
       "      <td>46.116505</td>\n",
       "      <td>0</td>\n",
       "    </tr>\n",
       "    <tr>\n",
       "      <th>4</th>\n",
       "      <td>Air Heads</td>\n",
       "      <td>0</td>\n",
       "      <td>1</td>\n",
       "      <td>0</td>\n",
       "      <td>0</td>\n",
       "      <td>0</td>\n",
       "      <td>0</td>\n",
       "      <td>0</td>\n",
       "      <td>0</td>\n",
       "      <td>0</td>\n",
       "      <td>0.906</td>\n",
       "      <td>0.511</td>\n",
       "      <td>52.341465</td>\n",
       "      <td>1</td>\n",
       "    </tr>\n",
       "  </tbody>\n",
       "</table>\n",
       "</div>"
      ],
      "text/plain": [
       "  competitorname  chocolate  fruity  caramel  peanutyalmondy  nougat  \\\n",
       "0      100 Grand          1       0        1               0       0   \n",
       "1   3 Musketeers          1       0        0               0       1   \n",
       "2       One dime          0       0        0               0       0   \n",
       "3    One quarter          0       0        0               0       0   \n",
       "4      Air Heads          0       1        0               0       0   \n",
       "\n",
       "   crispedricewafer  hard  bar  pluribus  sugarpercent  pricepercent  \\\n",
       "0                 1     0    1         0         0.732         0.860   \n",
       "1                 0     0    1         0         0.604         0.511   \n",
       "2                 0     0    0         0         0.011         0.116   \n",
       "3                 0     0    0         0         0.011         0.511   \n",
       "4                 0     0    0         0         0.906         0.511   \n",
       "\n",
       "   winpercent  meanshift  \n",
       "0   66.971725          2  \n",
       "1   67.602936          2  \n",
       "2   32.261086          0  \n",
       "3   46.116505          0  \n",
       "4   52.341465          1  "
      ]
     },
     "execution_count": 52,
     "metadata": {},
     "output_type": "execute_result"
    }
   ],
   "source": [
    "# también podemos integrar los grupos que predijo a nuestro conjunto de datos originales\n",
    "dataset['meanshift'] = meanshift.labels_\n",
    "dataset.head()"
   ]
  },
  {
   "cell_type": "markdown",
   "id": "e206e7a1-e016-46c5-b15c-8f178ac6c45a",
   "metadata": {},
   "source": [
    "## Validación de datos por K-Fols\n",
    "\n",
    "Hay varios métodos de validación:\n",
    "\n",
    "* **Hold Out**: lo que hacemos normalmente, cuando dividimos los datos en entrenamiento/prueba.\n",
    "* **K-fold**: cuando plegamos nuestros datos k veces y usamos estas configuraciones cada vez en el entrenamiento, intentando cubrir todos los datos de entrenamiento y testeo al finalizar el proceso.\n",
    "* **LOOCV**: Leave One Out Cross Validation. Este es un método mas intensivo, donde se hacen particiones entre entrenamiento y pruebas, con todos los datos para el entrenamiento excepto un valor, que se usa para la prueba. Se repite este proceso tantas veces hasta que se usen todos los datos para la prueba."
   ]
  },
  {
   "cell_type": "code",
   "execution_count": 2,
   "id": "1803ec3a-6cda-4d7c-9408-b34073f0bd8e",
   "metadata": {},
   "outputs": [],
   "source": [
    "import pandas as pd\n",
    "import numpy as np\n",
    "\n",
    "# Traemos un árbol de decisión para predecir el valor de una variable continua\n",
    "from sklearn.tree import DecisionTreeRegressor\n",
    "from sklearn.model_selection import (cross_val_score, KFold)"
   ]
  },
  {
   "cell_type": "code",
   "execution_count": 3,
   "id": "0989ab76-9aea-411c-884b-8bb63f0a2c37",
   "metadata": {},
   "outputs": [
    {
     "data": {
      "text/html": [
       "<div>\n",
       "<style scoped>\n",
       "    .dataframe tbody tr th:only-of-type {\n",
       "        vertical-align: middle;\n",
       "    }\n",
       "\n",
       "    .dataframe tbody tr th {\n",
       "        vertical-align: top;\n",
       "    }\n",
       "\n",
       "    .dataframe thead th {\n",
       "        text-align: right;\n",
       "    }\n",
       "</style>\n",
       "<table border=\"1\" class=\"dataframe\">\n",
       "  <thead>\n",
       "    <tr style=\"text-align: right;\">\n",
       "      <th></th>\n",
       "      <th>country</th>\n",
       "      <th>rank</th>\n",
       "      <th>score</th>\n",
       "      <th>high</th>\n",
       "      <th>low</th>\n",
       "      <th>gdp</th>\n",
       "      <th>family</th>\n",
       "      <th>lifexp</th>\n",
       "      <th>freedom</th>\n",
       "      <th>generosity</th>\n",
       "      <th>corruption</th>\n",
       "      <th>dystopia</th>\n",
       "    </tr>\n",
       "  </thead>\n",
       "  <tbody>\n",
       "    <tr>\n",
       "      <th>0</th>\n",
       "      <td>Norway</td>\n",
       "      <td>1</td>\n",
       "      <td>7.537</td>\n",
       "      <td>7.594445</td>\n",
       "      <td>7.479556</td>\n",
       "      <td>1.616463</td>\n",
       "      <td>1.533524</td>\n",
       "      <td>0.796667</td>\n",
       "      <td>0.635423</td>\n",
       "      <td>0.362012</td>\n",
       "      <td>0.315964</td>\n",
       "      <td>2.277027</td>\n",
       "    </tr>\n",
       "    <tr>\n",
       "      <th>1</th>\n",
       "      <td>Denmark</td>\n",
       "      <td>2</td>\n",
       "      <td>7.522</td>\n",
       "      <td>7.581728</td>\n",
       "      <td>7.462272</td>\n",
       "      <td>1.482383</td>\n",
       "      <td>1.551122</td>\n",
       "      <td>0.792566</td>\n",
       "      <td>0.626007</td>\n",
       "      <td>0.355280</td>\n",
       "      <td>0.400770</td>\n",
       "      <td>2.313707</td>\n",
       "    </tr>\n",
       "    <tr>\n",
       "      <th>2</th>\n",
       "      <td>Iceland</td>\n",
       "      <td>3</td>\n",
       "      <td>7.504</td>\n",
       "      <td>7.622030</td>\n",
       "      <td>7.385970</td>\n",
       "      <td>1.480633</td>\n",
       "      <td>1.610574</td>\n",
       "      <td>0.833552</td>\n",
       "      <td>0.627163</td>\n",
       "      <td>0.475540</td>\n",
       "      <td>0.153527</td>\n",
       "      <td>2.322715</td>\n",
       "    </tr>\n",
       "    <tr>\n",
       "      <th>3</th>\n",
       "      <td>Switzerland</td>\n",
       "      <td>4</td>\n",
       "      <td>7.494</td>\n",
       "      <td>7.561772</td>\n",
       "      <td>7.426227</td>\n",
       "      <td>1.564980</td>\n",
       "      <td>1.516912</td>\n",
       "      <td>0.858131</td>\n",
       "      <td>0.620071</td>\n",
       "      <td>0.290549</td>\n",
       "      <td>0.367007</td>\n",
       "      <td>2.276716</td>\n",
       "    </tr>\n",
       "    <tr>\n",
       "      <th>4</th>\n",
       "      <td>Finland</td>\n",
       "      <td>5</td>\n",
       "      <td>7.469</td>\n",
       "      <td>7.527542</td>\n",
       "      <td>7.410458</td>\n",
       "      <td>1.443572</td>\n",
       "      <td>1.540247</td>\n",
       "      <td>0.809158</td>\n",
       "      <td>0.617951</td>\n",
       "      <td>0.245483</td>\n",
       "      <td>0.382612</td>\n",
       "      <td>2.430182</td>\n",
       "    </tr>\n",
       "  </tbody>\n",
       "</table>\n",
       "</div>"
      ],
      "text/plain": [
       "       country  rank  score      high       low       gdp    family    lifexp  \\\n",
       "0       Norway     1  7.537  7.594445  7.479556  1.616463  1.533524  0.796667   \n",
       "1      Denmark     2  7.522  7.581728  7.462272  1.482383  1.551122  0.792566   \n",
       "2      Iceland     3  7.504  7.622030  7.385970  1.480633  1.610574  0.833552   \n",
       "3  Switzerland     4  7.494  7.561772  7.426227  1.564980  1.516912  0.858131   \n",
       "4      Finland     5  7.469  7.527542  7.410458  1.443572  1.540247  0.809158   \n",
       "\n",
       "    freedom  generosity  corruption  dystopia  \n",
       "0  0.635423    0.362012    0.315964  2.277027  \n",
       "1  0.626007    0.355280    0.400770  2.313707  \n",
       "2  0.627163    0.475540    0.153527  2.322715  \n",
       "3  0.620071    0.290549    0.367007  2.276716  \n",
       "4  0.617951    0.245483    0.382612  2.430182  "
      ]
     },
     "execution_count": 3,
     "metadata": {},
     "output_type": "execute_result"
    }
   ],
   "source": [
    "dataset = pd.read_csv('./datasets/felicidad.csv')\n",
    "dataset.head()"
   ]
  },
  {
   "cell_type": "code",
   "execution_count": 4,
   "id": "a56e7d32-b0bc-45ed-80b3-30d4f2c67d05",
   "metadata": {},
   "outputs": [],
   "source": [
    "# Armamos nuestro conjunto de datos sin las columnas del pais y puntaje\n",
    "# ajustamos al eje de las columnas\n",
    "X = dataset.drop(['country', 'score'], axis=1)\n",
    "# La columna que vamos a predecir es score\n",
    "y = dataset['score']"
   ]
  },
  {
   "cell_type": "code",
   "execution_count": 5,
   "id": "081f530a-4791-49d0-9359-7fd5f5dce586",
   "metadata": {},
   "outputs": [],
   "source": [
    "# Ahora usamos nuestro modelo, y lo dejamos con la configuración por defecto\n",
    "model = DecisionTreeRegressor()"
   ]
  },
  {
   "cell_type": "code",
   "execution_count": 6,
   "id": "019ea258-7931-4edd-a094-cc457648a444",
   "metadata": {},
   "outputs": [
    {
     "name": "stdout",
     "output_type": "stream",
     "text": [
      "Score:  [-0.84230062 -0.15857899 -0.72276584]\n"
     ]
    }
   ],
   "source": [
    "# Antes en este punto usabamos fit para ajustar a nuestros datos\n",
    "# Pero ahora, como vamos a usar Cross Validation, y CV se encarga de todo el proceso\n",
    "# entonces vamos a llamar directamente a la función de cross validation\n",
    "# esto es recomendable para cuando queremos hacer una prueba rápida con las configuraciones por defecto\n",
    "\n",
    "score = cross_val_score(model, #mandamos nuestro modelo\n",
    "                       X, #mandamos los features\n",
    "                       y, #mandamos los target\n",
    "                       cv=3,\n",
    "                       scoring='neg_mean_squared_error',) #opcional: podemos elegir el método con el que vamos a hacer CV\n",
    "print('Score: ', score)"
   ]
  },
  {
   "cell_type": "markdown",
   "id": "27225491-f3ae-4353-8e24-15aaa70b9d33",
   "metadata": {},
   "source": [
    "Nos da un arreglo de todos valores negativos. Son negativos por el scorig elegido.\n",
    "\n",
    "Cada uno de los valores dentro del arreglo es el error medio cuadrático que obtuvo de cada una de las pruebas.\n",
    "\n",
    "Por defecto el CV hace 5 pliegues de los datos. Esto se puede configurar con cv= indicando la cantidad de pliegues que quiero.\n",
    "\n",
    "Para trabajar con estos arreglos que son negativos y son varios valores es que usamos numpy."
   ]
  },
  {
   "cell_type": "code",
   "execution_count": 7,
   "id": "affcc97a-06aa-4582-9780-6468618f4d37",
   "metadata": {},
   "outputs": [
    {
     "name": "stdout",
     "output_type": "stream",
     "text": [
      "Promedio de los score de CV:  -0.5745484826672641\n",
      "Valor absoluto de ese promedio:  0.5745484826672641\n"
     ]
    }
   ],
   "source": [
    "print('Promedio de los score de CV: ', np.mean(score))\n",
    "print('Valor absoluto de ese promedio: ', np.abs(np.mean(score)))"
   ]
  },
  {
   "cell_type": "code",
   "execution_count": 8,
   "id": "51701a2e-d50d-4ab7-a67a-223bae444f95",
   "metadata": {},
   "outputs": [
    {
     "name": "stdout",
     "output_type": "stream",
     "text": [
      "Train:  [  0   1   2   3   4   5   6   7   8  10  13  14  16  17  20  21  23  25\n",
      "  28  32  33  34  35  37  38  39  40  41  43  44  46  47  48  49  50  52\n",
      "  53  54  57  58  59  61  62  63  64  67  70  71  72  73  74  77  80  83\n",
      "  87  88  89  91  92  94  97  98  99 100 101 102 103 104 105 106 107 108\n",
      " 110 111 112 113 114 115 116 120 121 123 125 127 128 129 130 132 134 135\n",
      " 136 139 140 143 144 145 146 148 149 150 151 152 154]\n",
      "Test:  [  9  11  12  15  18  19  22  24  26  27  29  30  31  36  42  45  51  55\n",
      "  56  60  65  66  68  69  75  76  78  79  81  82  84  85  86  90  93  95\n",
      "  96 109 117 118 119 122 124 126 131 133 137 138 141 142 147 153]\n",
      "====================================================================================================\n",
      "Train:  [  1   2   3   6   8   9  11  12  13  14  15  17  18  19  20  21  22  24\n",
      "  26  27  29  30  31  36  37  38  42  45  48  50  51  52  54  55  56  57\n",
      "  58  59  60  63  65  66  68  69  71  72  74  75  76  78  79  81  82  83\n",
      "  84  85  86  87  88  89  90  91  92  93  95  96  99 100 102 103 106 107\n",
      " 109 112 115 116 117 118 119 120 121 122 124 126 128 129 130 131 132 133\n",
      " 135 137 138 139 140 141 142 145 147 149 152 153 154]\n",
      "Test:  [  0   4   5   7  10  16  23  25  28  32  33  34  35  39  40  41  43  44\n",
      "  46  47  49  53  61  62  64  67  70  73  77  80  94  97  98 101 104 105\n",
      " 108 110 111 113 114 123 125 127 134 136 143 144 146 148 150 151]\n",
      "====================================================================================================\n",
      "Train:  [  0   4   5   7   9  10  11  12  15  16  18  19  22  23  24  25  26  27\n",
      "  28  29  30  31  32  33  34  35  36  39  40  41  42  43  44  45  46  47\n",
      "  49  51  53  55  56  60  61  62  64  65  66  67  68  69  70  73  75  76\n",
      "  77  78  79  80  81  82  84  85  86  90  93  94  95  96  97  98 101 104\n",
      " 105 108 109 110 111 113 114 117 118 119 122 123 124 125 126 127 131 133\n",
      " 134 136 137 138 141 142 143 144 146 147 148 150 151 153]\n",
      "Test:  [  1   2   3   6   8  13  14  17  20  21  37  38  48  50  52  54  57  58\n",
      "  59  63  71  72  74  83  87  88  89  91  92  99 100 102 103 106 107 112\n",
      " 115 116 120 121 128 129 130 132 135 139 140 145 149 152 154]\n",
      "====================================================================================================\n"
     ]
    }
   ],
   "source": [
    "# Si queremos saber como funciona CV de fondo tenemos que usar la función K-fold\n",
    "kf = KFold(n_splits=3, #es el número de pliegues que queremos\n",
    "          shuffle=True, #Si queremos que se organicen en forma aleatoria o en el orden del conjunto de datos\n",
    "          random_state=42) #para mantener la replicabilidad\n",
    "#Esto lo pasamos por un for para que por cada partición nos muestre los elementos de train y test\n",
    "for train, test in kf.split(dataset):\n",
    "    print('Train: ', train) #Me muestra los elementos que elige para entrenamiento\n",
    "    print('Test: ', test) #Me muestra los elementos que elige para testeo\n",
    "    print('='*100)\n",
    "\n",
    "# Luego aca podemos pasar train y test por el modelo que querramos como hicimos antes."
   ]
  },
  {
   "cell_type": "markdown",
   "id": "fdbe02d2-4734-4175-92ae-d96c37389383",
   "metadata": {},
   "source": [
    "Cada arreglo contiene los índices de la partición que hizo en cada pliegue.\n",
    "\n",
    "El primer arrgle es el conjunto de train y el segundo arreglo es el conjunto de test, para cada pliegue.\n"
   ]
  },
  {
   "cell_type": "markdown",
   "id": "82de524e-21f5-42f4-99de-aca2fb2f49dc",
   "metadata": {},
   "source": [
    "## Optimización paramétrica con CV\n",
    "Para lograr automatizar un poco este proceso de ML, es decir, la selección y la optimización del modelo, teniendo en cuenta cómo funciona el proceso de Cros Validation. Una vez que encontramos el modelo que parece funcionar, necesitamos encontrar  la optimización de cada uno de los parámetros para encontrar el que mejor se ajuste y el que mejor resultado nos de.\n",
    "\n",
    "La optimización paramétrica es una labor bastante tediosa, hay muchos parámetros que se pueden optimizar y es fácil perderse entre los conceptos de tantos parámetros que nos ofrece Scikit-learn. Es dififícil medir la sensibiliad de los mismos si lo hacemos manualmente y aunque lo hicieramos dentro de un ciclo for, esto sería muy costoso computacionalmente."
   ]
  },
  {
   "cell_type": "markdown",
   "id": "c6c6f149-c87f-444e-927c-b53c7491d004",
   "metadata": {},
   "source": [
    "### RandomizedSearchCV"
   ]
  },
  {
   "cell_type": "code",
   "execution_count": 10,
   "id": "5add3bc7-fa47-414e-b646-825e9cfc7fd3",
   "metadata": {},
   "outputs": [],
   "source": [
    "import pandas as pd\n",
    "from sklearn.model_selection import RandomizedSearchCV\n",
    "from sklearn.ensemble import RandomForestRegressor"
   ]
  },
  {
   "cell_type": "code",
   "execution_count": 11,
   "id": "eefd9040-f7d5-4faa-a1c1-bf51633d6b33",
   "metadata": {},
   "outputs": [],
   "source": [
    "dataset = pd.read_csv('./datasets/felicidad.csv')"
   ]
  },
  {
   "cell_type": "code",
   "execution_count": 12,
   "id": "49cbf7e9-1008-41b9-ad0e-6aba7ae4efd1",
   "metadata": {
    "collapsed": true,
    "jupyter": {
     "outputs_hidden": true
    },
    "tags": []
   },
   "outputs": [
    {
     "data": {
      "text/html": [
       "<div>\n",
       "<style scoped>\n",
       "    .dataframe tbody tr th:only-of-type {\n",
       "        vertical-align: middle;\n",
       "    }\n",
       "\n",
       "    .dataframe tbody tr th {\n",
       "        vertical-align: top;\n",
       "    }\n",
       "\n",
       "    .dataframe thead th {\n",
       "        text-align: right;\n",
       "    }\n",
       "</style>\n",
       "<table border=\"1\" class=\"dataframe\">\n",
       "  <thead>\n",
       "    <tr style=\"text-align: right;\">\n",
       "      <th></th>\n",
       "      <th>country</th>\n",
       "      <th>rank</th>\n",
       "      <th>score</th>\n",
       "      <th>high</th>\n",
       "      <th>low</th>\n",
       "      <th>gdp</th>\n",
       "      <th>family</th>\n",
       "      <th>lifexp</th>\n",
       "      <th>freedom</th>\n",
       "      <th>generosity</th>\n",
       "      <th>corruption</th>\n",
       "      <th>dystopia</th>\n",
       "    </tr>\n",
       "  </thead>\n",
       "  <tbody>\n",
       "    <tr>\n",
       "      <th>0</th>\n",
       "      <td>Norway</td>\n",
       "      <td>1</td>\n",
       "      <td>7.537</td>\n",
       "      <td>7.594445</td>\n",
       "      <td>7.479556</td>\n",
       "      <td>1.616463</td>\n",
       "      <td>1.533524</td>\n",
       "      <td>0.796667</td>\n",
       "      <td>0.635423</td>\n",
       "      <td>0.362012</td>\n",
       "      <td>0.315964</td>\n",
       "      <td>2.277027</td>\n",
       "    </tr>\n",
       "    <tr>\n",
       "      <th>1</th>\n",
       "      <td>Denmark</td>\n",
       "      <td>2</td>\n",
       "      <td>7.522</td>\n",
       "      <td>7.581728</td>\n",
       "      <td>7.462272</td>\n",
       "      <td>1.482383</td>\n",
       "      <td>1.551122</td>\n",
       "      <td>0.792566</td>\n",
       "      <td>0.626007</td>\n",
       "      <td>0.355280</td>\n",
       "      <td>0.400770</td>\n",
       "      <td>2.313707</td>\n",
       "    </tr>\n",
       "    <tr>\n",
       "      <th>2</th>\n",
       "      <td>Iceland</td>\n",
       "      <td>3</td>\n",
       "      <td>7.504</td>\n",
       "      <td>7.622030</td>\n",
       "      <td>7.385970</td>\n",
       "      <td>1.480633</td>\n",
       "      <td>1.610574</td>\n",
       "      <td>0.833552</td>\n",
       "      <td>0.627163</td>\n",
       "      <td>0.475540</td>\n",
       "      <td>0.153527</td>\n",
       "      <td>2.322715</td>\n",
       "    </tr>\n",
       "    <tr>\n",
       "      <th>3</th>\n",
       "      <td>Switzerland</td>\n",
       "      <td>4</td>\n",
       "      <td>7.494</td>\n",
       "      <td>7.561772</td>\n",
       "      <td>7.426227</td>\n",
       "      <td>1.564980</td>\n",
       "      <td>1.516912</td>\n",
       "      <td>0.858131</td>\n",
       "      <td>0.620071</td>\n",
       "      <td>0.290549</td>\n",
       "      <td>0.367007</td>\n",
       "      <td>2.276716</td>\n",
       "    </tr>\n",
       "    <tr>\n",
       "      <th>4</th>\n",
       "      <td>Finland</td>\n",
       "      <td>5</td>\n",
       "      <td>7.469</td>\n",
       "      <td>7.527542</td>\n",
       "      <td>7.410458</td>\n",
       "      <td>1.443572</td>\n",
       "      <td>1.540247</td>\n",
       "      <td>0.809158</td>\n",
       "      <td>0.617951</td>\n",
       "      <td>0.245483</td>\n",
       "      <td>0.382612</td>\n",
       "      <td>2.430182</td>\n",
       "    </tr>\n",
       "  </tbody>\n",
       "</table>\n",
       "</div>"
      ],
      "text/plain": [
       "       country  rank  score      high       low       gdp    family    lifexp  \\\n",
       "0       Norway     1  7.537  7.594445  7.479556  1.616463  1.533524  0.796667   \n",
       "1      Denmark     2  7.522  7.581728  7.462272  1.482383  1.551122  0.792566   \n",
       "2      Iceland     3  7.504  7.622030  7.385970  1.480633  1.610574  0.833552   \n",
       "3  Switzerland     4  7.494  7.561772  7.426227  1.564980  1.516912  0.858131   \n",
       "4      Finland     5  7.469  7.527542  7.410458  1.443572  1.540247  0.809158   \n",
       "\n",
       "    freedom  generosity  corruption  dystopia  \n",
       "0  0.635423    0.362012    0.315964  2.277027  \n",
       "1  0.626007    0.355280    0.400770  2.313707  \n",
       "2  0.627163    0.475540    0.153527  2.322715  \n",
       "3  0.620071    0.290549    0.367007  2.276716  \n",
       "4  0.617951    0.245483    0.382612  2.430182  "
      ]
     },
     "execution_count": 12,
     "metadata": {},
     "output_type": "execute_result"
    }
   ],
   "source": [
    "dataset.head()"
   ]
  },
  {
   "cell_type": "code",
   "execution_count": 16,
   "id": "7e482adb-ad70-4aab-ae5e-04a9036bb2c1",
   "metadata": {},
   "outputs": [],
   "source": [
    "X = dataset.drop(['country', 'rank', 'score'], axis=1)\n",
    "y = dataset['score']"
   ]
  },
  {
   "cell_type": "code",
   "execution_count": 81,
   "id": "7785e682-cac5-43db-9ddf-a124a7cc8c1d",
   "metadata": {},
   "outputs": [],
   "source": [
    "# Definismo el regresor que vamos a usar y lo dejamos sin parámetros\n",
    "reg = RandomForestRegressor()"
   ]
  },
  {
   "cell_type": "code",
   "execution_count": 82,
   "id": "531e248f-0c7c-4330-ab22-79842c7de42e",
   "metadata": {},
   "outputs": [],
   "source": [
    "# Vamos a definir la grilla de parámetros que va a utilizar \n",
    "# nuestro optimizador para que nos busque la mejor combinación de parámetros\n",
    "# Esta grilla es un diccionario\n",
    "parametros = {\n",
    "    'n_estimators' : range(4,16), # Cuántos árboles van a componer mi bosque, entre 4 y 15 (pongo 16 porque es n-1)\n",
    "    'criterion'    : ['absolute_error', 'squared_error'], #Es una medida de calidad de los split que hace mi árbol. Me dice que tan bueno o malo fue\n",
    "    'max_depth'    : range(2,10) #Para limitar qué tan profundo queremos nuestros árboles\n",
    "}"
   ]
  },
  {
   "cell_type": "code",
   "execution_count": 83,
   "id": "73c8d228-a2b3-4a0c-aa40-6bb26f5f802f",
   "metadata": {},
   "outputs": [
    {
     "name": "stdout",
     "output_type": "stream",
     "text": [
      "  Mejor combinación de estimadores:\n",
      "RandomForestRegressor(criterion='absolute_error', max_depth=8, n_estimators=13)\n",
      "  Mejores parámetros encontrados:\n",
      "{'n_estimators': 13, 'max_depth': 8, 'criterion': 'absolute_error'}\n",
      "  Mejor scoring:\n",
      "0.5874133422674036\n"
     ]
    }
   ],
   "source": [
    "# Vamos a definir nuestro optimizador\n",
    "rand_est = RandomizedSearchCV(reg, #Le decimos cual es nuestro modelo\n",
    "                              parametros, #Le decimos cuales son los parámetros de la grilla\n",
    "                              n_iter=10, #Le limitamos la cantidad de iteraciones o configuraciones de cada uno de los parámtros definidos en parametros\n",
    "                              cv=3, #Como vamos a usar CV le decimos los pliegues que queremos\n",
    "                              scoring='neg_mean_squared_error').fit(X, y) #Le decimos con que función queremos medir que tan bien nos fue\n",
    "                                                                          #Y entrenamos\n",
    "print('  Mejor combinación de estimadores:')\n",
    "print(rand_est.best_estimator_)\n",
    "print('  Mejores parámetros encontrados:')\n",
    "print(rand_est.best_params_)\n",
    "print('  Mejor scoring:')\n",
    "print(np.abs(rand_est.best_score_))"
   ]
  },
  {
   "cell_type": "code",
   "execution_count": 84,
   "id": "478ff9eb-b24a-49c6-8c71-b3f4b1c7d252",
   "metadata": {},
   "outputs": [
    {
     "name": "stdout",
     "output_type": "stream",
     "text": [
      "[7.5273078]\n"
     ]
    }
   ],
   "source": [
    "# Hacemos una predicción muy simple\n",
    "# Cuando le pedimos una predicción, automáticamente va a tomar el best_estimator_ para hacerla\n",
    "print(rand_est.predict(X.loc[[0]])) #Queremos ver que predice para la primer fila, es decir, el score para el primer país"
   ]
  },
  {
   "cell_type": "code",
   "execution_count": 85,
   "id": "fd8f11cd-1e21-497b-85d2-d66afb34e62c",
   "metadata": {},
   "outputs": [
    {
     "data": {
      "text/html": [
       "<div>\n",
       "<style scoped>\n",
       "    .dataframe tbody tr th:only-of-type {\n",
       "        vertical-align: middle;\n",
       "    }\n",
       "\n",
       "    .dataframe tbody tr th {\n",
       "        vertical-align: top;\n",
       "    }\n",
       "\n",
       "    .dataframe thead th {\n",
       "        text-align: right;\n",
       "    }\n",
       "</style>\n",
       "<table border=\"1\" class=\"dataframe\">\n",
       "  <thead>\n",
       "    <tr style=\"text-align: right;\">\n",
       "      <th></th>\n",
       "      <th>country</th>\n",
       "      <th>rank</th>\n",
       "      <th>score</th>\n",
       "      <th>high</th>\n",
       "      <th>low</th>\n",
       "      <th>gdp</th>\n",
       "      <th>family</th>\n",
       "      <th>lifexp</th>\n",
       "      <th>freedom</th>\n",
       "      <th>generosity</th>\n",
       "      <th>corruption</th>\n",
       "      <th>dystopia</th>\n",
       "    </tr>\n",
       "  </thead>\n",
       "  <tbody>\n",
       "    <tr>\n",
       "      <th>0</th>\n",
       "      <td>Norway</td>\n",
       "      <td>1</td>\n",
       "      <td>7.537</td>\n",
       "      <td>7.594445</td>\n",
       "      <td>7.479556</td>\n",
       "      <td>1.616463</td>\n",
       "      <td>1.533524</td>\n",
       "      <td>0.796667</td>\n",
       "      <td>0.635423</td>\n",
       "      <td>0.362012</td>\n",
       "      <td>0.315964</td>\n",
       "      <td>2.277027</td>\n",
       "    </tr>\n",
       "  </tbody>\n",
       "</table>\n",
       "</div>"
      ],
      "text/plain": [
       "  country  rank  score      high       low       gdp    family    lifexp  \\\n",
       "0  Norway     1  7.537  7.594445  7.479556  1.616463  1.533524  0.796667   \n",
       "\n",
       "    freedom  generosity  corruption  dystopia  \n",
       "0  0.635423    0.362012    0.315964  2.277027  "
      ]
     },
     "execution_count": 85,
     "metadata": {},
     "output_type": "execute_result"
    }
   ],
   "source": [
    "# Vemos que la etiqueta real era de 7.537\n",
    "dataset.loc[[0]]"
   ]
  },
  {
   "cell_type": "markdown",
   "id": "f38a70f1-f603-4053-91fc-cc96201b1084",
   "metadata": {},
   "source": [
    "### GridSearchCV"
   ]
  },
  {
   "cell_type": "code",
   "execution_count": 86,
   "id": "47ec0536-9e3c-4a13-aa51-e1d55943bb85",
   "metadata": {},
   "outputs": [],
   "source": [
    "from sklearn.model_selection import GridSearchCV"
   ]
  },
  {
   "cell_type": "code",
   "execution_count": 87,
   "id": "e5c8d990-08d5-455c-8a51-20b66b08f1d5",
   "metadata": {},
   "outputs": [],
   "source": [
    "#Defino de los modelos a usar\n",
    "reg = RandomForestRegressor()"
   ]
  },
  {
   "cell_type": "code",
   "execution_count": 88,
   "id": "093bc9a0-06f4-4503-a067-9c52d551ce50",
   "metadata": {},
   "outputs": [],
   "source": [
    "# Defino los parámetos que quiero iterar\n",
    "params = {'n_estimators' : range(4,16),\n",
    "          'criterion'    : ['absolute_error', 'squared_error'],\n",
    "          'max_depth'    : range(2,10)}"
   ]
  },
  {
   "cell_type": "code",
   "execution_count": 89,
   "id": "9b4fda11-f70d-43e7-aaf5-60bb03689a6e",
   "metadata": {},
   "outputs": [],
   "source": [
    "grid_reg = GridSearchCV(reg,\n",
    "                        params,\n",
    "                        cv=3,\n",
    "                        scoring='neg_mean_squared_error').fit(X, y)"
   ]
  },
  {
   "cell_type": "code",
   "execution_count": 90,
   "id": "d49018bd-5c75-4f47-a8df-499fcfc98bf4",
   "metadata": {},
   "outputs": [
    {
     "name": "stdout",
     "output_type": "stream",
     "text": [
      "  Mejor combinación de estimadores:\n",
      "RandomForestRegressor(criterion='absolute_error', max_depth=5, n_estimators=4)\n",
      "  Mejores parámetros encontrados:\n",
      "{'criterion': 'absolute_error', 'max_depth': 5, 'n_estimators': 4}\n",
      "  Mejor scoring:\n",
      "0.568968139874565\n"
     ]
    }
   ],
   "source": [
    "print('  Mejor combinación de estimadores:')\n",
    "print(grid_reg.best_estimator_)\n",
    "print('  Mejores parámetros encontrados:')\n",
    "print(grid_reg.best_params_)\n",
    "print('  Mejor scoring:')\n",
    "print(np.abs(grid_reg.best_score_))"
   ]
  },
  {
   "cell_type": "code",
   "execution_count": null,
   "id": "677f2781-2dcd-4f4a-b89e-1e2c30602096",
   "metadata": {},
   "outputs": [],
   "source": []
  }
 ],
 "metadata": {
  "kernelspec": {
   "display_name": "Python [conda env:.conda-mlenv]",
   "language": "python",
   "name": "conda-env-.conda-mlenv-py"
  },
  "language_info": {
   "codemirror_mode": {
    "name": "ipython",
    "version": 3
   },
   "file_extension": ".py",
   "mimetype": "text/x-python",
   "name": "python",
   "nbconvert_exporter": "python",
   "pygments_lexer": "ipython3",
   "version": "3.10.4"
  }
 },
 "nbformat": 4,
 "nbformat_minor": 5
}
